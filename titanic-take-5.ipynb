{
 "cells": [
  {
   "cell_type": "markdown",
   "metadata": {},
   "source": [
    "<h0><center><font size='6'>Titanic Dataset - Take 5</font></center></h0>"
   ]
  },
  {
   "cell_type": "markdown",
   "metadata": {},
   "source": [
    "___"
   ]
  },
  {
   "cell_type": "markdown",
   "metadata": {},
   "source": [
    "Table Of Contents\n",
    "="
   ]
  },
  {
   "cell_type": "markdown",
   "metadata": {},
   "source": [
    "______"
   ]
  },
  {
   "cell_type": "markdown",
   "metadata": {
    "jupyter": {
     "outputs_hidden": true
    },
    "tags": []
   },
   "source": [
    "- <a href='#Link-SecA'>Introduction</a>\n",
    "- <a href='#Link-SecB'>Exploratory Data Analysis</a>\n",
    "    - <a href='#Link-SecB-a'>Training dataset</a>\n",
    "    - <a href='#Link-SecB-b'>Checking for missing values</a>\n",
    "    - <a href='#Link-SecB-c'>Target feature: Survival</a>\n",
    "    - <a href='#Link-SecB-d'>Sex vs Survival rate</a>\n",
    "    - <a href='#Link-SecB-e'>Pclass vs Survival rate</a>\n",
    "    - <a href='#Link-SecB-f'>Parch vs Survival rate</a>\n",
    "    - <a href='#Link-SecB-g'>SibSp vs Survival rate</a>\n",
    "    - <a href='#Link-SecB-h'>Combining Parch and SibSp</a>\n",
    "    - <a href='#Link-SecB-i'>Summarizing demographics analysis</a>\n",
    "    - <a href='#Link-SecB-j'>Embarked vs Survival rate</a>\n",
    "    - <a href='#Link-SecB-k'>Fare vs Pclass</a>\n",
    "    - <a href='#Link-SecB-l'>Cabin vs Survival rate</a>\n",
    "    - <a href='#Link-SecB-m'>Name vs Survival rate</a>\n",
    "- <a href='#Link-SecB-n'>Test dataset</a>\n",
    "    - <a href='#Link-SecB-o'>Checking for missing values</a>\n",
    "- <a href='#Link-SecC'>Feature engineering and preparation</a>\n",
    "    - <a href='#Link-SecC-a'>Cabin feature</a>\n",
    "    - <a href='#Link-SecC-b'>Age feature</a>\n",
    "    - <a href='#Link-SecC-c'>Embarked feature </a> \n",
    "    - <a href='#Link-SecC-d'>Fare feature </a>\n",
    "    - <a href='#Link-SecC-e'>Name feature - exctracting title </a>\n",
    "    - <a href='#Link-SecC-f'>Parch and SibSp - The family </a>\n",
    "    - <a href='#Link-SecC-g'>Tidying up</a>\n",
    "- <a href='#Link-SecD'>Machine Learning</a>\n",
    "    - <a href='#Link-SecD-a'>Preprocessing</a>\n",
    "    - <a href='#Link-SecD-b'>Model Training</a>\n",
    "    - <a href='#Link-SecD-h'>Model Evaluation </a>\n",
    "    - <a href='#Link-SecD-i'>Kaggle Submission </a>"
   ]
  },
  {
   "cell_type": "markdown",
   "metadata": {},
   "source": [
    "---"
   ]
  },
  {
   "cell_type": "markdown",
   "metadata": {},
   "source": [
    "# <a id='Link-SecA'>Introduction</a>"
   ]
  },
  {
   "cell_type": "markdown",
   "metadata": {},
   "source": [
    "___"
   ]
  },
  {
   "cell_type": "markdown",
   "metadata": {},
   "source": [
    "Hello all!\n",
    "\n",
    "Sharing with you all my take on the classic Titanic dataset using different ML models: `Logistic Regression`, `Decision Trees`, `Random Forest`, `K-Nearest Neighbors` and `Extreme Gradient Boosting Classifier`.\n",
    "    \n",
    "This notebook was built after a lot of study and help from the kaggle community and courses. Feel free to copy the code to study and develop your own knowledge on ML models. If you have any comments do not hesitate to contact me."
   ]
  },
  {
   "cell_type": "markdown",
   "metadata": {},
   "source": [
    "___"
   ]
  },
  {
   "cell_type": "markdown",
   "metadata": {},
   "source": [
    "# <a id='Link-SecB'>Exploratory Data Analysis</a>"
   ]
  },
  {
   "cell_type": "markdown",
   "metadata": {},
   "source": [
    "___"
   ]
  },
  {
   "cell_type": "code",
   "execution_count": null,
   "metadata": {
    "execution": {
     "iopub.execute_input": "2021-05-25T21:20:20.36387Z",
     "iopub.status.busy": "2021-05-25T21:20:20.363488Z",
     "iopub.status.idle": "2021-05-25T21:20:20.370705Z",
     "shell.execute_reply": "2021-05-25T21:20:20.369497Z",
     "shell.execute_reply.started": "2021-05-25T21:20:20.363838Z"
    }
   },
   "outputs": [],
   "source": [
    "# importing basic libraries\n",
    "\n",
    "import pandas as pd\n",
    "import numpy as np\n",
    "import matplotlib.pyplot as plt\n",
    "import seaborn as sns\n",
    "%matplotlib inline\n",
    "\n",
    "import warnings\n",
    "warnings.filterwarnings(\"ignore\")"
   ]
  },
  {
   "cell_type": "markdown",
   "metadata": {},
   "source": [
    "## <a id='#Link-SecB-a'>Training dataset</a>"
   ]
  },
  {
   "cell_type": "code",
   "execution_count": null,
   "metadata": {
    "execution": {
     "iopub.execute_input": "2021-05-25T21:20:20.464841Z",
     "iopub.status.busy": "2021-05-25T21:20:20.464483Z",
     "iopub.status.idle": "2021-05-25T21:20:20.481826Z",
     "shell.execute_reply": "2021-05-25T21:20:20.480808Z",
     "shell.execute_reply.started": "2021-05-25T21:20:20.464811Z"
    }
   },
   "outputs": [],
   "source": [
    "train = pd.read_csv('../input/titanic/train.csv',index_col='PassengerId')"
   ]
  },
  {
   "cell_type": "code",
   "execution_count": null,
   "metadata": {
    "execution": {
     "iopub.execute_input": "2021-05-25T21:20:20.52162Z",
     "iopub.status.busy": "2021-05-25T21:20:20.52126Z",
     "iopub.status.idle": "2021-05-25T21:20:20.539969Z",
     "shell.execute_reply": "2021-05-25T21:20:20.538947Z",
     "shell.execute_reply.started": "2021-05-25T21:20:20.521589Z"
    }
   },
   "outputs": [],
   "source": [
    "train.head()"
   ]
  },
  {
   "cell_type": "code",
   "execution_count": null,
   "metadata": {
    "execution": {
     "iopub.execute_input": "2021-05-25T21:20:20.541841Z",
     "iopub.status.busy": "2021-05-25T21:20:20.541348Z",
     "iopub.status.idle": "2021-05-25T21:20:20.554821Z",
     "shell.execute_reply": "2021-05-25T21:20:20.55361Z",
     "shell.execute_reply.started": "2021-05-25T21:20:20.541805Z"
    }
   },
   "outputs": [],
   "source": [
    "print(f'There are {train.shape[0]} rows in the data frame')\n",
    "print(f'There are {train.shape[1]} columns in the data frame')"
   ]
  },
  {
   "cell_type": "code",
   "execution_count": null,
   "metadata": {
    "execution": {
     "iopub.execute_input": "2021-05-25T21:20:20.613244Z",
     "iopub.status.busy": "2021-05-25T21:20:20.612882Z",
     "iopub.status.idle": "2021-05-25T21:20:20.628535Z",
     "shell.execute_reply": "2021-05-25T21:20:20.627698Z",
     "shell.execute_reply.started": "2021-05-25T21:20:20.613214Z"
    }
   },
   "outputs": [],
   "source": [
    "train.info()"
   ]
  },
  {
   "cell_type": "markdown",
   "metadata": {},
   "source": [
    "### <a id='Link-SecB-b'>Checking for missing values</a> "
   ]
  },
  {
   "cell_type": "code",
   "execution_count": null,
   "metadata": {
    "execution": {
     "iopub.execute_input": "2021-05-25T21:20:20.63605Z",
     "iopub.status.busy": "2021-05-25T21:20:20.635708Z",
     "iopub.status.idle": "2021-05-25T21:20:20.645378Z",
     "shell.execute_reply": "2021-05-25T21:20:20.644414Z",
     "shell.execute_reply.started": "2021-05-25T21:20:20.63602Z"
    }
   },
   "outputs": [],
   "source": [
    "train.isnull().values.any()"
   ]
  },
  {
   "cell_type": "code",
   "execution_count": null,
   "metadata": {
    "execution": {
     "iopub.execute_input": "2021-05-25T21:20:20.699151Z",
     "iopub.status.busy": "2021-05-25T21:20:20.698626Z",
     "iopub.status.idle": "2021-05-25T21:20:20.707321Z",
     "shell.execute_reply": "2021-05-25T21:20:20.706543Z",
     "shell.execute_reply.started": "2021-05-25T21:20:20.699119Z"
    }
   },
   "outputs": [],
   "source": [
    "train.isnull().sum()"
   ]
  },
  {
   "cell_type": "code",
   "execution_count": null,
   "metadata": {
    "execution": {
     "iopub.execute_input": "2021-05-25T21:20:20.743614Z",
     "iopub.status.busy": "2021-05-25T21:20:20.743126Z",
     "iopub.status.idle": "2021-05-25T21:20:20.748859Z",
     "shell.execute_reply": "2021-05-25T21:20:20.747985Z",
     "shell.execute_reply.started": "2021-05-25T21:20:20.743583Z"
    }
   },
   "outputs": [],
   "source": [
    "def missing_value(df):\n",
    "    number = df.isnull().sum().sort_values(ascending=False)\n",
    "    number = number[number > 0]\n",
    "    percentage = df.isnull().sum() *100 / df.shape[0]\n",
    "    percentage = percentage[percentage > 0].sort_values(ascending=False)\n",
    "    return  pd.concat([number,percentage],keys=[\"Total\",\"Percentage\"],axis=1)"
   ]
  },
  {
   "cell_type": "code",
   "execution_count": null,
   "metadata": {
    "execution": {
     "iopub.execute_input": "2021-05-25T21:20:20.833507Z",
     "iopub.status.busy": "2021-05-25T21:20:20.832927Z",
     "iopub.status.idle": "2021-05-25T21:20:21.051206Z",
     "shell.execute_reply": "2021-05-25T21:20:21.049833Z",
     "shell.execute_reply.started": "2021-05-25T21:20:20.833458Z"
    },
    "tags": []
   },
   "outputs": [],
   "source": [
    "plt.figure(figsize=(10,6))\n",
    "sns.heatmap(train.isnull(),yticklabels=False,cbar=False,cmap='viridis');"
   ]
  },
  {
   "cell_type": "markdown",
   "metadata": {},
   "source": [
    "Three features in the train data set with missing values were found: `Cabin` (77% missing), `Age` (20% missing) and `Embarked` (only 2 observations missing). They will be investigated further in the feature engineering section."
   ]
  },
  {
   "cell_type": "code",
   "execution_count": null,
   "metadata": {
    "execution": {
     "iopub.execute_input": "2021-05-25T21:20:21.293765Z",
     "iopub.status.busy": "2021-05-25T21:20:21.293251Z",
     "iopub.status.idle": "2021-05-25T21:20:21.311755Z",
     "shell.execute_reply": "2021-05-25T21:20:21.310796Z",
     "shell.execute_reply.started": "2021-05-25T21:20:21.293717Z"
    }
   },
   "outputs": [],
   "source": [
    "missing_value(train)"
   ]
  },
  {
   "cell_type": "markdown",
   "metadata": {},
   "source": [
    "### <a id='Link-SecB-c'>Target feature: Survival</a>  "
   ]
  },
  {
   "cell_type": "markdown",
   "metadata": {},
   "source": [
    "We will start with a check of the `Survived` column, a.k.a the target feature we will be trying to predict with the ML algorithms. A good start is with looking at the balance between the two classes in this feature."
   ]
  },
  {
   "cell_type": "code",
   "execution_count": null,
   "metadata": {
    "execution": {
     "iopub.execute_input": "2021-05-25T21:20:21.314291Z",
     "iopub.status.busy": "2021-05-25T21:20:21.313951Z",
     "iopub.status.idle": "2021-05-25T21:20:21.328399Z",
     "shell.execute_reply": "2021-05-25T21:20:21.327424Z",
     "shell.execute_reply.started": "2021-05-25T21:20:21.314256Z"
    },
    "tags": []
   },
   "outputs": [],
   "source": [
    "surv=train['Survived'].value_counts(normalize=True).mul(100).reset_index().rename(columns={'index': 'Survived','Survived':'percent'})"
   ]
  },
  {
   "cell_type": "code",
   "execution_count": null,
   "metadata": {
    "execution": {
     "iopub.execute_input": "2021-05-25T21:20:21.330478Z",
     "iopub.status.busy": "2021-05-25T21:20:21.33001Z",
     "iopub.status.idle": "2021-05-25T21:20:21.342729Z",
     "shell.execute_reply": "2021-05-25T21:20:21.341821Z",
     "shell.execute_reply.started": "2021-05-25T21:20:21.330433Z"
    },
    "tags": []
   },
   "outputs": [],
   "source": [
    "surv.iloc[0,0] = 'No'\n",
    "surv.iloc[1,0] = 'Yes'"
   ]
  },
  {
   "cell_type": "code",
   "execution_count": null,
   "metadata": {
    "execution": {
     "iopub.execute_input": "2021-05-25T21:20:21.345436Z",
     "iopub.status.busy": "2021-05-25T21:20:21.344961Z",
     "iopub.status.idle": "2021-05-25T21:20:21.500918Z",
     "shell.execute_reply": "2021-05-25T21:20:21.499923Z",
     "shell.execute_reply.started": "2021-05-25T21:20:21.345404Z"
    }
   },
   "outputs": [],
   "source": [
    "plt.figure(figsize=(10,6))\n",
    "sns.set_style('darkgrid')\n",
    "sns.set_context('paper',font_scale=1.5)\n",
    "\n",
    "plt.suptitle('Survival probability')\n",
    "sns.barplot(x='Survived',y='percent',data=surv);"
   ]
  },
  {
   "cell_type": "markdown",
   "metadata": {},
   "source": [
    "Over 60% of individuals didn't survived in the train data set. \n",
    "\n",
    "Next we will look at the survival rate in the different features."
   ]
  },
  {
   "cell_type": "markdown",
   "metadata": {},
   "source": [
    "### <a id='Link-SecB-d'>Sex vs Survival rate</a>"
   ]
  },
  {
   "cell_type": "code",
   "execution_count": null,
   "metadata": {
    "execution": {
     "iopub.execute_input": "2021-05-25T21:20:21.503579Z",
     "iopub.status.busy": "2021-05-25T21:20:21.503247Z",
     "iopub.status.idle": "2021-05-25T21:20:21.514192Z",
     "shell.execute_reply": "2021-05-25T21:20:21.51283Z",
     "shell.execute_reply.started": "2021-05-25T21:20:21.503547Z"
    }
   },
   "outputs": [],
   "source": [
    "sex=train.groupby('Sex')['Survived'].value_counts(normalize=True).mul(100).rename('percent').reset_index()"
   ]
  },
  {
   "cell_type": "code",
   "execution_count": null,
   "metadata": {
    "execution": {
     "iopub.execute_input": "2021-05-25T21:20:21.515755Z",
     "iopub.status.busy": "2021-05-25T21:20:21.515431Z",
     "iopub.status.idle": "2021-05-25T21:20:21.533727Z",
     "shell.execute_reply": "2021-05-25T21:20:21.532812Z",
     "shell.execute_reply.started": "2021-05-25T21:20:21.515723Z"
    }
   },
   "outputs": [],
   "source": [
    "sex"
   ]
  },
  {
   "cell_type": "code",
   "execution_count": null,
   "metadata": {
    "execution": {
     "iopub.execute_input": "2021-05-25T21:20:21.53538Z",
     "iopub.status.busy": "2021-05-25T21:20:21.53491Z",
     "iopub.status.idle": "2021-05-25T21:20:21.549223Z",
     "shell.execute_reply": "2021-05-25T21:20:21.548279Z",
     "shell.execute_reply.started": "2021-05-25T21:20:21.535334Z"
    }
   },
   "outputs": [],
   "source": [
    "sex_dist = train['Sex'].value_counts(normalize=True).mul(100).reset_index().rename(columns={'index': 'Sex','Sex':'percent'})"
   ]
  },
  {
   "cell_type": "code",
   "execution_count": null,
   "metadata": {
    "execution": {
     "iopub.execute_input": "2021-05-25T21:20:21.550809Z",
     "iopub.status.busy": "2021-05-25T21:20:21.550352Z",
     "iopub.status.idle": "2021-05-25T21:20:21.571681Z",
     "shell.execute_reply": "2021-05-25T21:20:21.570596Z",
     "shell.execute_reply.started": "2021-05-25T21:20:21.550764Z"
    }
   },
   "outputs": [],
   "source": [
    "sex_dist"
   ]
  },
  {
   "cell_type": "code",
   "execution_count": null,
   "metadata": {
    "execution": {
     "iopub.execute_input": "2021-05-25T21:20:21.573262Z",
     "iopub.status.busy": "2021-05-25T21:20:21.572921Z",
     "iopub.status.idle": "2021-05-25T21:20:22.097991Z",
     "shell.execute_reply": "2021-05-25T21:20:22.096587Z",
     "shell.execute_reply.started": "2021-05-25T21:20:21.57323Z"
    }
   },
   "outputs": [],
   "source": [
    "fig, axs = plt.subplots(nrows=1,ncols=2,figsize=(20,6))\n",
    "sns.set_style('darkgrid')\n",
    "#sns.set_context('paper',font_scale=1)\n",
    "plt.suptitle('Sex feature distribution')\n",
    "axs[0].set_title('Passengers per Sex')\n",
    "axs[1].set_title('Survival rate per Sex')\n",
    "\n",
    "sns.barplot(ax=axs[0],x='Sex',y='percent',data=sex_dist)\n",
    "sns.barplot(ax=axs[1],x='Sex',y='percent',hue='Survived',data=sex);"
   ]
  },
  {
   "cell_type": "markdown",
   "metadata": {},
   "source": [
    "From the figure above becomes clear that male passengers in the train dataset represented over 60% of the individuals. Most of them did not survive the disaster (80%). It is also intersting to see in the figure below the age distribution of males and females. It is possible to note that passengers over 60 years were mainly males and that the distribution between classes of ages 0 to 60 are similar for both sex."
   ]
  },
  {
   "cell_type": "code",
   "execution_count": null,
   "metadata": {
    "execution": {
     "iopub.execute_input": "2021-05-25T21:20:22.102125Z",
     "iopub.status.busy": "2021-05-25T21:20:22.101716Z",
     "iopub.status.idle": "2021-05-25T21:20:23.053224Z",
     "shell.execute_reply": "2021-05-25T21:20:23.052127Z",
     "shell.execute_reply.started": "2021-05-25T21:20:22.102091Z"
    }
   },
   "outputs": [],
   "source": [
    "sns.set_style('darkgrid')\n",
    "#sns.set_context('paper',font_scale=2)\n",
    "\n",
    "grid = sns.FacetGrid(data=train,\n",
    "                     col='Sex',\n",
    "                     margin_titles=True,height=5,aspect=1.6,legend_out=True,despine=False)\n",
    "\n",
    "grid.map(plt.hist,'Age',alpha=0.5,bins=30)\n",
    "grid.add_legend();"
   ]
  },
  {
   "cell_type": "markdown",
   "metadata": {},
   "source": [
    "Now, if we split the age distribution one more level and look at the them across the `Survived` label, it seems that most male passengers over 60 did not survive the disaster."
   ]
  },
  {
   "cell_type": "code",
   "execution_count": null,
   "metadata": {
    "execution": {
     "iopub.execute_input": "2021-05-25T21:20:23.055309Z",
     "iopub.status.busy": "2021-05-25T21:20:23.054988Z",
     "iopub.status.idle": "2021-05-25T21:20:24.72917Z",
     "shell.execute_reply": "2021-05-25T21:20:24.728126Z",
     "shell.execute_reply.started": "2021-05-25T21:20:23.055279Z"
    }
   },
   "outputs": [],
   "source": [
    "sns.set_style('darkgrid')\n",
    "#sns.set_context('paper',font_scale=1)\n",
    "\n",
    "grid = sns.FacetGrid(data=train,\n",
    "                     col='Survived',\n",
    "                     row='Sex',\n",
    "                     margin_titles=True,height=5,aspect=1.5,legend_out=True,despine=False)\n",
    "\n",
    "grid.map(plt.hist,'Age',alpha=0.5,bins=30)\n",
    "grid.add_legend();"
   ]
  },
  {
   "cell_type": "markdown",
   "metadata": {},
   "source": [
    "### <a id='Link-SecB-e'>Pclass vs Survival rate</a>"
   ]
  },
  {
   "cell_type": "code",
   "execution_count": null,
   "metadata": {
    "execution": {
     "iopub.execute_input": "2021-05-25T21:20:24.730856Z",
     "iopub.status.busy": "2021-05-25T21:20:24.730515Z",
     "iopub.status.idle": "2021-05-25T21:20:24.738879Z",
     "shell.execute_reply": "2021-05-25T21:20:24.738088Z",
     "shell.execute_reply.started": "2021-05-25T21:20:24.730827Z"
    }
   },
   "outputs": [],
   "source": [
    "pclass=train.groupby('Pclass')['Survived'].value_counts(normalize=True).mul(100).rename('percent').reset_index()"
   ]
  },
  {
   "cell_type": "code",
   "execution_count": null,
   "metadata": {
    "execution": {
     "iopub.execute_input": "2021-05-25T21:20:24.740848Z",
     "iopub.status.busy": "2021-05-25T21:20:24.740254Z",
     "iopub.status.idle": "2021-05-25T21:20:24.76196Z",
     "shell.execute_reply": "2021-05-25T21:20:24.760569Z",
     "shell.execute_reply.started": "2021-05-25T21:20:24.740803Z"
    }
   },
   "outputs": [],
   "source": [
    "pclass"
   ]
  },
  {
   "cell_type": "code",
   "execution_count": null,
   "metadata": {
    "execution": {
     "iopub.execute_input": "2021-05-25T21:20:24.763746Z",
     "iopub.status.busy": "2021-05-25T21:20:24.763325Z",
     "iopub.status.idle": "2021-05-25T21:20:24.782011Z",
     "shell.execute_reply": "2021-05-25T21:20:24.780807Z",
     "shell.execute_reply.started": "2021-05-25T21:20:24.763708Z"
    }
   },
   "outputs": [],
   "source": [
    "pclass_dist = train['Pclass'].value_counts(normalize=True).mul(100).reset_index().rename(columns={'index': 'Pclass','Pclass':'percent'})"
   ]
  },
  {
   "cell_type": "code",
   "execution_count": null,
   "metadata": {
    "execution": {
     "iopub.execute_input": "2021-05-25T21:20:24.783901Z",
     "iopub.status.busy": "2021-05-25T21:20:24.783385Z",
     "iopub.status.idle": "2021-05-25T21:20:24.801286Z",
     "shell.execute_reply": "2021-05-25T21:20:24.800048Z",
     "shell.execute_reply.started": "2021-05-25T21:20:24.783868Z"
    }
   },
   "outputs": [],
   "source": [
    "pclass_dist"
   ]
  },
  {
   "cell_type": "code",
   "execution_count": null,
   "metadata": {
    "execution": {
     "iopub.execute_input": "2021-05-25T21:20:24.803177Z",
     "iopub.status.busy": "2021-05-25T21:20:24.802857Z",
     "iopub.status.idle": "2021-05-25T21:20:25.195527Z",
     "shell.execute_reply": "2021-05-25T21:20:25.194346Z",
     "shell.execute_reply.started": "2021-05-25T21:20:24.803149Z"
    }
   },
   "outputs": [],
   "source": [
    "fig, axs = plt.subplots(nrows=1,ncols=2,figsize=(20,6))\n",
    "sns.set_style('darkgrid')\n",
    "#sns.set_context('paper',font_scale=1)\n",
    "\n",
    "plt.suptitle('Pclass feature distribution')\n",
    "axs[0].set_title('Passengers per Pclass')\n",
    "axs[1].set_title('Survival rate per Pclass')\n",
    "\n",
    "sns.barplot(ax=axs[0],x='Pclass',y='percent',data=pclass_dist);\n",
    "sns.barplot(ax=axs[1], x='Pclass',y='percent',data=pclass,hue='Survived');"
   ]
  },
  {
   "cell_type": "markdown",
   "metadata": {},
   "source": [
    "Most of passenger were traveling in third class (~55%) and more than 75% of them did not survived. First class passengers were the ones with highes chance of survival (over 50%) while passengers on second class had similar chances of survival."
   ]
  },
  {
   "cell_type": "markdown",
   "metadata": {},
   "source": [
    "We could now add `Age` to the mix to investigate age structure in the different `Pclasses` to build a bit more out intuition on how the different features interact to each other."
   ]
  },
  {
   "cell_type": "code",
   "execution_count": null,
   "metadata": {
    "execution": {
     "iopub.execute_input": "2021-05-25T21:20:25.197212Z",
     "iopub.status.busy": "2021-05-25T21:20:25.196901Z",
     "iopub.status.idle": "2021-05-25T21:20:26.379006Z",
     "shell.execute_reply": "2021-05-25T21:20:26.377781Z",
     "shell.execute_reply.started": "2021-05-25T21:20:25.197184Z"
    }
   },
   "outputs": [],
   "source": [
    "sns.set_style('darkgrid')\n",
    "\n",
    "grid = sns.FacetGrid(data=train,\n",
    "                     #col='Survived',\n",
    "                     col='Pclass',\n",
    "                     margin_titles=True,height=5,aspect=1,legend_out=True,despine=False)\n",
    "\n",
    "grid.map(plt.hist,'Age',alpha=0.5,bins=30)\n",
    "grid.add_legend();"
   ]
  },
  {
   "cell_type": "markdown",
   "metadata": {},
   "source": [
    "Most of youngsters were traveling on third class while the older passengers seem to be concentrated in first class. At leas we can't really see much passengers less than 20 years in first class as much as second and third."
   ]
  },
  {
   "cell_type": "markdown",
   "metadata": {},
   "source": [
    "Building up to an analysis of the `Age` sctructure per `Pclass` against `Survived` to comfirm the trend. Again, third classe with higher percetage of youngsters that did not survive can be inferred from the figure below."
   ]
  },
  {
   "cell_type": "code",
   "execution_count": null,
   "metadata": {
    "execution": {
     "iopub.execute_input": "2021-05-25T21:20:26.380974Z",
     "iopub.status.busy": "2021-05-25T21:20:26.380499Z",
     "iopub.status.idle": "2021-05-25T21:20:28.446091Z",
     "shell.execute_reply": "2021-05-25T21:20:28.445204Z",
     "shell.execute_reply.started": "2021-05-25T21:20:26.380905Z"
    }
   },
   "outputs": [],
   "source": [
    "sns.set_style('darkgrid')\n",
    "\n",
    "grid = sns.FacetGrid(data=train,\n",
    "                     col='Survived',\n",
    "                     row='Pclass',\n",
    "                     margin_titles=True,height=5,aspect=1.5,legend_out=True,despine=False)\n",
    "\n",
    "grid.map(plt.hist,'Age',alpha=0.5,bins=20)\n",
    "grid.add_legend();"
   ]
  },
  {
   "cell_type": "markdown",
   "metadata": {},
   "source": [
    "Perhaps we should also look at the proportion of males and females per `Pclass`."
   ]
  },
  {
   "cell_type": "code",
   "execution_count": null,
   "metadata": {
    "execution": {
     "iopub.execute_input": "2021-05-25T21:20:28.447613Z",
     "iopub.status.busy": "2021-05-25T21:20:28.447336Z",
     "iopub.status.idle": "2021-05-25T21:20:28.456869Z",
     "shell.execute_reply": "2021-05-25T21:20:28.455893Z",
     "shell.execute_reply.started": "2021-05-25T21:20:28.447585Z"
    }
   },
   "outputs": [],
   "source": [
    "sex_pclass=train.groupby('Pclass')['Sex'].value_counts(normalize=True).mul(100).rename('percent').reset_index()"
   ]
  },
  {
   "cell_type": "code",
   "execution_count": null,
   "metadata": {
    "execution": {
     "iopub.execute_input": "2021-05-25T21:20:28.458771Z",
     "iopub.status.busy": "2021-05-25T21:20:28.458431Z",
     "iopub.status.idle": "2021-05-25T21:20:28.473219Z",
     "shell.execute_reply": "2021-05-25T21:20:28.472381Z",
     "shell.execute_reply.started": "2021-05-25T21:20:28.45874Z"
    }
   },
   "outputs": [],
   "source": [
    "sex_pclass"
   ]
  },
  {
   "cell_type": "code",
   "execution_count": null,
   "metadata": {
    "execution": {
     "iopub.execute_input": "2021-05-25T21:20:28.474753Z",
     "iopub.status.busy": "2021-05-25T21:20:28.474446Z",
     "iopub.status.idle": "2021-05-25T21:20:28.691017Z",
     "shell.execute_reply": "2021-05-25T21:20:28.689853Z",
     "shell.execute_reply.started": "2021-05-25T21:20:28.474723Z"
    }
   },
   "outputs": [],
   "source": [
    "fig, axs = plt.subplots(figsize=(6,5))\n",
    "sns.set_style('darkgrid')\n",
    "#sns.set_context('paper',font_scale=1)\n",
    "\n",
    "plt.suptitle('Sex proportion per Pclass')\n",
    "\n",
    "sns.barplot(x='Pclass',y='percent',hue='Sex',data=sex_pclass,ci=False)\n",
    "plt.legend(bbox_to_anchor=(1.1,1));\n"
   ]
  },
  {
   "cell_type": "markdown",
   "metadata": {},
   "source": [
    "As expected most of males were traveling on third class."
   ]
  },
  {
   "cell_type": "markdown",
   "metadata": {},
   "source": [
    "### <a id='Link-SecB-f'>Parch vs Survival rate</a>"
   ]
  },
  {
   "cell_type": "markdown",
   "metadata": {},
   "source": [
    "Continuing with our 'demographics' exploration we will have a look at `Parch` feature that contains the number of parents and children also on board the Titanic for each passenger."
   ]
  },
  {
   "cell_type": "code",
   "execution_count": null,
   "metadata": {
    "execution": {
     "iopub.execute_input": "2021-05-25T21:20:28.692775Z",
     "iopub.status.busy": "2021-05-25T21:20:28.692366Z",
     "iopub.status.idle": "2021-05-25T21:20:28.705325Z",
     "shell.execute_reply": "2021-05-25T21:20:28.704025Z",
     "shell.execute_reply.started": "2021-05-25T21:20:28.692741Z"
    }
   },
   "outputs": [],
   "source": [
    "parch=train.groupby('Parch')['Survived'].value_counts(normalize=True).mul(100).rename('percent').reset_index()"
   ]
  },
  {
   "cell_type": "code",
   "execution_count": null,
   "metadata": {
    "execution": {
     "iopub.execute_input": "2021-05-25T21:20:28.712081Z",
     "iopub.status.busy": "2021-05-25T21:20:28.711727Z",
     "iopub.status.idle": "2021-05-25T21:20:28.723772Z",
     "shell.execute_reply": "2021-05-25T21:20:28.722615Z",
     "shell.execute_reply.started": "2021-05-25T21:20:28.712052Z"
    }
   },
   "outputs": [],
   "source": [
    "parch"
   ]
  },
  {
   "cell_type": "code",
   "execution_count": null,
   "metadata": {
    "execution": {
     "iopub.execute_input": "2021-05-25T21:20:28.730021Z",
     "iopub.status.busy": "2021-05-25T21:20:28.729293Z",
     "iopub.status.idle": "2021-05-25T21:20:28.740575Z",
     "shell.execute_reply": "2021-05-25T21:20:28.739449Z",
     "shell.execute_reply.started": "2021-05-25T21:20:28.729979Z"
    }
   },
   "outputs": [],
   "source": [
    "parch_dist = train['Parch'].value_counts(normalize=True).mul(100).reset_index().rename(columns={'index': 'Parch','Parch':'percent'})"
   ]
  },
  {
   "cell_type": "code",
   "execution_count": null,
   "metadata": {
    "execution": {
     "iopub.execute_input": "2021-05-25T21:20:28.742349Z",
     "iopub.status.busy": "2021-05-25T21:20:28.742037Z",
     "iopub.status.idle": "2021-05-25T21:20:28.758806Z",
     "shell.execute_reply": "2021-05-25T21:20:28.757729Z",
     "shell.execute_reply.started": "2021-05-25T21:20:28.742321Z"
    }
   },
   "outputs": [],
   "source": [
    "parch_dist"
   ]
  },
  {
   "cell_type": "code",
   "execution_count": null,
   "metadata": {
    "execution": {
     "iopub.execute_input": "2021-05-25T21:20:28.761445Z",
     "iopub.status.busy": "2021-05-25T21:20:28.760972Z",
     "iopub.status.idle": "2021-05-25T21:20:29.247071Z",
     "shell.execute_reply": "2021-05-25T21:20:29.24592Z",
     "shell.execute_reply.started": "2021-05-25T21:20:28.761398Z"
    }
   },
   "outputs": [],
   "source": [
    "fig, axs = plt.subplots(nrows=1,ncols=2,figsize=(20,6))\n",
    "sns.set_style('darkgrid')\n",
    "#sns.set_context('paper',font_scale=1)\n",
    "\n",
    "plt.suptitle('Parch feature distribution')\n",
    "axs[0].set_title('Passengers per Parch')\n",
    "axs[1].set_title('Survival rate per Parch')\n",
    "\n",
    "sns.barplot(ax=axs[0],x='Parch',y='percent',data=parch_dist);\n",
    "sns.barplot(ax=axs[1], x='Parch',y='percent',data=parch,hue='Survived');"
   ]
  },
  {
   "cell_type": "markdown",
   "metadata": {},
   "source": [
    "More than 75% of the passengers had no parents nor children on board the Titanic and over 65% of them did not surivive. However it is important to note that passengers with `Parch` over 4 had even lower survival rate."
   ]
  },
  {
   "cell_type": "markdown",
   "metadata": {},
   "source": [
    "### <a id='Link-SecB-g'>SibSp vs Survival rate</a>"
   ]
  },
  {
   "cell_type": "code",
   "execution_count": null,
   "metadata": {
    "execution": {
     "iopub.execute_input": "2021-05-25T21:20:29.248639Z",
     "iopub.status.busy": "2021-05-25T21:20:29.248353Z",
     "iopub.status.idle": "2021-05-25T21:20:29.258068Z",
     "shell.execute_reply": "2021-05-25T21:20:29.256902Z",
     "shell.execute_reply.started": "2021-05-25T21:20:29.248611Z"
    }
   },
   "outputs": [],
   "source": [
    "sibsp=train.groupby('SibSp')['Survived'].value_counts(normalize=True).mul(100).rename('percent').reset_index()"
   ]
  },
  {
   "cell_type": "code",
   "execution_count": null,
   "metadata": {
    "execution": {
     "iopub.execute_input": "2021-05-25T21:20:29.260211Z",
     "iopub.status.busy": "2021-05-25T21:20:29.259766Z",
     "iopub.status.idle": "2021-05-25T21:20:29.275172Z",
     "shell.execute_reply": "2021-05-25T21:20:29.274129Z",
     "shell.execute_reply.started": "2021-05-25T21:20:29.260165Z"
    }
   },
   "outputs": [],
   "source": [
    "sibsp"
   ]
  },
  {
   "cell_type": "code",
   "execution_count": null,
   "metadata": {
    "execution": {
     "iopub.execute_input": "2021-05-25T21:20:29.276974Z",
     "iopub.status.busy": "2021-05-25T21:20:29.276487Z",
     "iopub.status.idle": "2021-05-25T21:20:29.291071Z",
     "shell.execute_reply": "2021-05-25T21:20:29.290049Z",
     "shell.execute_reply.started": "2021-05-25T21:20:29.27693Z"
    }
   },
   "outputs": [],
   "source": [
    "sibsp_dist = train['SibSp'].value_counts(normalize=True).mul(100).reset_index().rename(columns={'index': 'SibSp','SibSp':'percent'})"
   ]
  },
  {
   "cell_type": "code",
   "execution_count": null,
   "metadata": {
    "execution": {
     "iopub.execute_input": "2021-05-25T21:20:29.292748Z",
     "iopub.status.busy": "2021-05-25T21:20:29.292258Z",
     "iopub.status.idle": "2021-05-25T21:20:29.30763Z",
     "shell.execute_reply": "2021-05-25T21:20:29.306774Z",
     "shell.execute_reply.started": "2021-05-25T21:20:29.292712Z"
    }
   },
   "outputs": [],
   "source": [
    "sibsp_dist"
   ]
  },
  {
   "cell_type": "code",
   "execution_count": null,
   "metadata": {
    "execution": {
     "iopub.execute_input": "2021-05-25T21:20:29.309294Z",
     "iopub.status.busy": "2021-05-25T21:20:29.308979Z",
     "iopub.status.idle": "2021-05-25T21:20:29.786133Z",
     "shell.execute_reply": "2021-05-25T21:20:29.785279Z",
     "shell.execute_reply.started": "2021-05-25T21:20:29.309263Z"
    }
   },
   "outputs": [],
   "source": [
    "fig, axs = plt.subplots(nrows=1,ncols=2,figsize=(20,6))\n",
    "sns.set_style('darkgrid')\n",
    "#sns.set_context('paper',font_scale=1)\n",
    "\n",
    "plt.suptitle('SibSp feature distribution')\n",
    "axs[0].set_title('Passengers per SibSp')\n",
    "axs[1].set_title('Survival rate per SibSp')\n",
    "\n",
    "sns.barplot(ax=axs[0],x='SibSp',y='percent',data=sibsp_dist);\n",
    "sns.barplot(ax=axs[1], x='SibSp',y='percent',data=sibsp,hue='Survived');"
   ]
  },
  {
   "cell_type": "markdown",
   "metadata": {},
   "source": [
    "Following the trend observed in the `Parch` feature, it seems most of the passengers also didn't have either spouse or siblins on board the Titanic and the survival rate of those with 3 or more `Parch` was also extremely low. "
   ]
  },
  {
   "cell_type": "markdown",
   "metadata": {},
   "source": [
    "### <a id='Link-SecB-h'>Combining Parch and SibSp</a>"
   ]
  },
  {
   "cell_type": "markdown",
   "metadata": {},
   "source": [
    "As a test we will use the features `Parch`and `SibSp` and unite them in a new feature called `Family` where we will classify passengers as travelling with family members or not."
   ]
  },
  {
   "cell_type": "code",
   "execution_count": null,
   "metadata": {
    "execution": {
     "iopub.execute_input": "2021-05-25T21:20:29.787881Z",
     "iopub.status.busy": "2021-05-25T21:20:29.787267Z",
     "iopub.status.idle": "2021-05-25T21:20:29.80734Z",
     "shell.execute_reply": "2021-05-25T21:20:29.806564Z",
     "shell.execute_reply.started": "2021-05-25T21:20:29.787844Z"
    }
   },
   "outputs": [],
   "source": [
    "def sib_family(row):\n",
    "    if row['SibSp'] > 0:\n",
    "        return 1\n",
    "    else:\n",
    "        return 0\n",
    "train['SibSp'] = train.apply(lambda row: sib_family(row),axis=1)"
   ]
  },
  {
   "cell_type": "code",
   "execution_count": null,
   "metadata": {
    "execution": {
     "iopub.execute_input": "2021-05-25T21:20:29.808889Z",
     "iopub.status.busy": "2021-05-25T21:20:29.808405Z",
     "iopub.status.idle": "2021-05-25T21:20:29.82838Z",
     "shell.execute_reply": "2021-05-25T21:20:29.826943Z",
     "shell.execute_reply.started": "2021-05-25T21:20:29.808844Z"
    }
   },
   "outputs": [],
   "source": [
    "def par_family(row):\n",
    "    if row['Parch'] > 0:\n",
    "        return 1\n",
    "    else:\n",
    "        return 0\n",
    "train['Parch'] = train.apply(lambda row: par_family(row),axis=1)"
   ]
  },
  {
   "cell_type": "code",
   "execution_count": null,
   "metadata": {
    "execution": {
     "iopub.execute_input": "2021-05-25T21:20:29.830344Z",
     "iopub.status.busy": "2021-05-25T21:20:29.830011Z",
     "iopub.status.idle": "2021-05-25T21:20:29.85092Z",
     "shell.execute_reply": "2021-05-25T21:20:29.849612Z",
     "shell.execute_reply.started": "2021-05-25T21:20:29.830314Z"
    }
   },
   "outputs": [],
   "source": [
    "train.head()"
   ]
  },
  {
   "cell_type": "code",
   "execution_count": null,
   "metadata": {
    "execution": {
     "iopub.execute_input": "2021-05-25T21:20:29.852892Z",
     "iopub.status.busy": "2021-05-25T21:20:29.852412Z",
     "iopub.status.idle": "2021-05-25T21:20:29.860187Z",
     "shell.execute_reply": "2021-05-25T21:20:29.858889Z",
     "shell.execute_reply.started": "2021-05-25T21:20:29.852848Z"
    }
   },
   "outputs": [],
   "source": [
    "train['Family'] = train['SibSp'] + train['Parch']"
   ]
  },
  {
   "cell_type": "code",
   "execution_count": null,
   "metadata": {
    "execution": {
     "iopub.execute_input": "2021-05-25T21:20:29.861796Z",
     "iopub.status.busy": "2021-05-25T21:20:29.861471Z",
     "iopub.status.idle": "2021-05-25T21:20:29.88932Z",
     "shell.execute_reply": "2021-05-25T21:20:29.888378Z",
     "shell.execute_reply.started": "2021-05-25T21:20:29.861768Z"
    }
   },
   "outputs": [],
   "source": [
    "train.head()"
   ]
  },
  {
   "cell_type": "code",
   "execution_count": null,
   "metadata": {
    "execution": {
     "iopub.execute_input": "2021-05-25T21:20:29.891127Z",
     "iopub.status.busy": "2021-05-25T21:20:29.890842Z",
     "iopub.status.idle": "2021-05-25T21:20:29.910988Z",
     "shell.execute_reply": "2021-05-25T21:20:29.909885Z",
     "shell.execute_reply.started": "2021-05-25T21:20:29.891099Z"
    }
   },
   "outputs": [],
   "source": [
    "def family(row):\n",
    "    if row['Family'] > 0:\n",
    "        return 1\n",
    "    else:\n",
    "        return 0\n",
    "train['Family'] = train.apply(lambda row: family(row),axis=1)"
   ]
  },
  {
   "cell_type": "code",
   "execution_count": null,
   "metadata": {
    "execution": {
     "iopub.execute_input": "2021-05-25T21:20:29.91241Z",
     "iopub.status.busy": "2021-05-25T21:20:29.912126Z",
     "iopub.status.idle": "2021-05-25T21:20:29.93024Z",
     "shell.execute_reply": "2021-05-25T21:20:29.929348Z",
     "shell.execute_reply.started": "2021-05-25T21:20:29.912383Z"
    }
   },
   "outputs": [],
   "source": [
    "train.head()"
   ]
  },
  {
   "cell_type": "code",
   "execution_count": null,
   "metadata": {
    "execution": {
     "iopub.execute_input": "2021-05-25T21:20:29.931541Z",
     "iopub.status.busy": "2021-05-25T21:20:29.93126Z",
     "iopub.status.idle": "2021-05-25T21:20:29.947904Z",
     "shell.execute_reply": "2021-05-25T21:20:29.946786Z",
     "shell.execute_reply.started": "2021-05-25T21:20:29.931515Z"
    }
   },
   "outputs": [],
   "source": [
    "train['Family'].value_counts()"
   ]
  },
  {
   "cell_type": "code",
   "execution_count": null,
   "metadata": {
    "execution": {
     "iopub.execute_input": "2021-05-25T21:20:29.949495Z",
     "iopub.status.busy": "2021-05-25T21:20:29.949193Z",
     "iopub.status.idle": "2021-05-25T21:20:29.963227Z",
     "shell.execute_reply": "2021-05-25T21:20:29.962028Z",
     "shell.execute_reply.started": "2021-05-25T21:20:29.949467Z"
    }
   },
   "outputs": [],
   "source": [
    "fam_dist = train['Family'].value_counts(normalize=True).mul(100).reset_index().rename(columns={'index': 'Family','Family':'percent'})"
   ]
  },
  {
   "cell_type": "code",
   "execution_count": null,
   "metadata": {
    "execution": {
     "iopub.execute_input": "2021-05-25T21:20:29.964814Z",
     "iopub.status.busy": "2021-05-25T21:20:29.96448Z",
     "iopub.status.idle": "2021-05-25T21:20:29.985179Z",
     "shell.execute_reply": "2021-05-25T21:20:29.983974Z",
     "shell.execute_reply.started": "2021-05-25T21:20:29.964784Z"
    }
   },
   "outputs": [],
   "source": [
    "fam_dist"
   ]
  },
  {
   "cell_type": "code",
   "execution_count": null,
   "metadata": {
    "execution": {
     "iopub.execute_input": "2021-05-25T21:20:29.986946Z",
     "iopub.status.busy": "2021-05-25T21:20:29.986462Z",
     "iopub.status.idle": "2021-05-25T21:20:30.003416Z",
     "shell.execute_reply": "2021-05-25T21:20:30.002016Z",
     "shell.execute_reply.started": "2021-05-25T21:20:29.9869Z"
    }
   },
   "outputs": [],
   "source": [
    "fam = train.groupby('Family')['Survived'].value_counts(normalize=True).mul(100).rename('percent').reset_index()"
   ]
  },
  {
   "cell_type": "code",
   "execution_count": null,
   "metadata": {
    "execution": {
     "iopub.execute_input": "2021-05-25T21:20:30.006087Z",
     "iopub.status.busy": "2021-05-25T21:20:30.005741Z",
     "iopub.status.idle": "2021-05-25T21:20:30.024453Z",
     "shell.execute_reply": "2021-05-25T21:20:30.023305Z",
     "shell.execute_reply.started": "2021-05-25T21:20:30.006059Z"
    }
   },
   "outputs": [],
   "source": [
    "fam"
   ]
  },
  {
   "cell_type": "code",
   "execution_count": null,
   "metadata": {
    "execution": {
     "iopub.execute_input": "2021-05-25T21:20:30.026066Z",
     "iopub.status.busy": "2021-05-25T21:20:30.025642Z",
     "iopub.status.idle": "2021-05-25T21:20:30.357545Z",
     "shell.execute_reply": "2021-05-25T21:20:30.356421Z",
     "shell.execute_reply.started": "2021-05-25T21:20:30.026022Z"
    }
   },
   "outputs": [],
   "source": [
    "fig, axs = plt.subplots(nrows=1,ncols=2,figsize=(20,6))\n",
    "sns.set_style('darkgrid')\n",
    "#sns.set_context('paper',font_scale=1)\n",
    "\n",
    "plt.suptitle('Family feature distribution')\n",
    "axs[0].set_title('Passengers per Family')\n",
    "axs[1].set_title('Survival rate per Family')\n",
    "\n",
    "sns.barplot(ax=axs[0],x='Family',y='percent',data=fam_dist);\n",
    "sns.barplot(ax=axs[1], x='Family',y='percent',data=fam,hue='Survived');"
   ]
  },
  {
   "cell_type": "markdown",
   "metadata": {},
   "source": [
    "Excellent. Now we know that \"loners\" had 60% chance of not surviving while passengers traveling with family had equal chance of survivng."
   ]
  },
  {
   "cell_type": "markdown",
   "metadata": {},
   "source": [
    "### <a id='Link-SecB-i'>Summarizing demographics analysis</a>"
   ]
  },
  {
   "cell_type": "markdown",
   "metadata": {},
   "source": [
    "Some good intuition is already built from the data exploration on the demographics of Titanic passengers done so far. \n",
    "Before we continue let's summarize what've lerned so far:\n",
    "\n",
    "- Most of passengers did not survived\n",
    "- Most of passengers were men \n",
    "- Most of passengers were young under 40 years old (men and women)\n",
    "- Most of passengers were traveling in 3rd class (men and women)\n",
    "- Most passemger were traveling alone\n",
    "- Chance of survival seem to be related to number of family members traveling together"
   ]
  },
  {
   "cell_type": "markdown",
   "metadata": {},
   "source": [
    "Now we will look at the `Embarkaed` feature, representing the ports were the passengeres embarqued Titanic: Cherbourg (C), Queenstown (Q), Southampton (S)"
   ]
  },
  {
   "cell_type": "markdown",
   "metadata": {},
   "source": [
    "### <a id='Link-SecB-j'>Embarked vs Survival rate</a>"
   ]
  },
  {
   "cell_type": "code",
   "execution_count": null,
   "metadata": {
    "execution": {
     "iopub.execute_input": "2021-05-25T21:20:30.359887Z",
     "iopub.status.busy": "2021-05-25T21:20:30.359269Z",
     "iopub.status.idle": "2021-05-25T21:20:30.370584Z",
     "shell.execute_reply": "2021-05-25T21:20:30.369796Z",
     "shell.execute_reply.started": "2021-05-25T21:20:30.35984Z"
    },
    "tags": []
   },
   "outputs": [],
   "source": [
    "embkd = train.groupby('Embarked')['Survived'].value_counts(normalize=True).mul(100).rename('percent').reset_index()"
   ]
  },
  {
   "cell_type": "code",
   "execution_count": null,
   "metadata": {
    "execution": {
     "iopub.execute_input": "2021-05-25T21:20:30.372539Z",
     "iopub.status.busy": "2021-05-25T21:20:30.371964Z",
     "iopub.status.idle": "2021-05-25T21:20:30.386994Z",
     "shell.execute_reply": "2021-05-25T21:20:30.385467Z",
     "shell.execute_reply.started": "2021-05-25T21:20:30.372495Z"
    }
   },
   "outputs": [],
   "source": [
    "embkd"
   ]
  },
  {
   "cell_type": "code",
   "execution_count": null,
   "metadata": {
    "execution": {
     "iopub.execute_input": "2021-05-25T21:20:30.3887Z",
     "iopub.status.busy": "2021-05-25T21:20:30.388261Z",
     "iopub.status.idle": "2021-05-25T21:20:30.404709Z",
     "shell.execute_reply": "2021-05-25T21:20:30.40379Z",
     "shell.execute_reply.started": "2021-05-25T21:20:30.388635Z"
    }
   },
   "outputs": [],
   "source": [
    "embkd_dist = train['Embarked'].value_counts(normalize=True).mul(100).reset_index().rename(columns={'index': 'Embarked','Embarked':'percent'})"
   ]
  },
  {
   "cell_type": "code",
   "execution_count": null,
   "metadata": {
    "execution": {
     "iopub.execute_input": "2021-05-25T21:20:30.407054Z",
     "iopub.status.busy": "2021-05-25T21:20:30.406371Z",
     "iopub.status.idle": "2021-05-25T21:20:30.424782Z",
     "shell.execute_reply": "2021-05-25T21:20:30.423804Z",
     "shell.execute_reply.started": "2021-05-25T21:20:30.407003Z"
    }
   },
   "outputs": [],
   "source": [
    "embkd_dist"
   ]
  },
  {
   "cell_type": "code",
   "execution_count": null,
   "metadata": {
    "execution": {
     "iopub.execute_input": "2021-05-25T21:20:30.426317Z",
     "iopub.status.busy": "2021-05-25T21:20:30.426036Z",
     "iopub.status.idle": "2021-05-25T21:20:30.779939Z",
     "shell.execute_reply": "2021-05-25T21:20:30.778909Z",
     "shell.execute_reply.started": "2021-05-25T21:20:30.426289Z"
    }
   },
   "outputs": [],
   "source": [
    "fig, axs = plt.subplots(nrows=1,ncols=2,figsize=(20,6))\n",
    "sns.set_style('darkgrid')\n",
    "#sns.set_context('paper',font_scale=1)\n",
    "\n",
    "plt.suptitle('Embarked feature distribution')\n",
    "axs[0].set_title('Passengers per Embarked')\n",
    "axs[1].set_title('Survival rate per Embarked')\n",
    "\n",
    "sns.barplot(ax=axs[0],x='Embarked',y='percent',data=embkd_dist);\n",
    "sns.barplot(ax=axs[1], x='Embarked',y='percent',data=embkd,hue='Survived');"
   ]
  },
  {
   "cell_type": "markdown",
   "metadata": {},
   "source": [
    "Most passengers  got on board in Southampton and passengers that embarked in Cherbourg had higher survival rate."
   ]
  },
  {
   "cell_type": "markdown",
   "metadata": {},
   "source": [
    "### <a id='Link-SecB-k'>Fare vs Pclass</a>"
   ]
  },
  {
   "cell_type": "markdown",
   "metadata": {},
   "source": [
    "Last but not least, the `Fare` feature will be investigated. We want to look into the relationship between fare and `Pclass` as I would expect some sort of pricing difference."
   ]
  },
  {
   "cell_type": "code",
   "execution_count": null,
   "metadata": {
    "execution": {
     "iopub.execute_input": "2021-05-25T21:20:30.782241Z",
     "iopub.status.busy": "2021-05-25T21:20:30.781627Z",
     "iopub.status.idle": "2021-05-25T21:20:30.798873Z",
     "shell.execute_reply": "2021-05-25T21:20:30.797723Z",
     "shell.execute_reply.started": "2021-05-25T21:20:30.782193Z"
    }
   },
   "outputs": [],
   "source": [
    "fare = train.groupby('Pclass')['Fare'].describe()"
   ]
  },
  {
   "cell_type": "code",
   "execution_count": null,
   "metadata": {
    "execution": {
     "iopub.execute_input": "2021-05-25T21:20:30.801095Z",
     "iopub.status.busy": "2021-05-25T21:20:30.800616Z",
     "iopub.status.idle": "2021-05-25T21:20:30.814974Z",
     "shell.execute_reply": "2021-05-25T21:20:30.813833Z",
     "shell.execute_reply.started": "2021-05-25T21:20:30.80105Z"
    }
   },
   "outputs": [],
   "source": [
    "fare.transpose()"
   ]
  },
  {
   "cell_type": "code",
   "execution_count": null,
   "metadata": {
    "execution": {
     "iopub.execute_input": "2021-05-25T21:20:30.817116Z",
     "iopub.status.busy": "2021-05-25T21:20:30.816698Z",
     "iopub.status.idle": "2021-05-25T21:20:32.183153Z",
     "shell.execute_reply": "2021-05-25T21:20:32.181807Z",
     "shell.execute_reply.started": "2021-05-25T21:20:30.817071Z"
    }
   },
   "outputs": [],
   "source": [
    "sns.set_style('darkgrid')\n",
    "\n",
    "grid = sns.FacetGrid(data=train,\n",
    "                     #row='Embarked',\n",
    "                     col='Pclass',\n",
    "                     margin_titles=True,height=5,aspect=1,legend_out=True,despine=False)\n",
    "\n",
    "grid.map(plt.hist,'Fare',alpha=.5,bins=20)\n",
    "grid.add_legend();"
   ]
  },
  {
   "cell_type": "markdown",
   "metadata": {},
   "source": [
    "It is clear that there a significant price difference for the different classes onboard and it seems that the features `Fare`and `Pclass` are redundant."
   ]
  },
  {
   "cell_type": "markdown",
   "metadata": {},
   "source": [
    "### <a id='Link-SecB-l'>Cabin vs Survival rate</a>"
   ]
  },
  {
   "cell_type": "markdown",
   "metadata": {},
   "source": [
    "Looking now at the `Cabin` feature where 77% of the data is missing. "
   ]
  },
  {
   "cell_type": "code",
   "execution_count": null,
   "metadata": {
    "execution": {
     "iopub.execute_input": "2021-05-25T21:20:32.185202Z",
     "iopub.status.busy": "2021-05-25T21:20:32.184813Z",
     "iopub.status.idle": "2021-05-25T21:20:32.192368Z",
     "shell.execute_reply": "2021-05-25T21:20:32.191466Z",
     "shell.execute_reply.started": "2021-05-25T21:20:32.185169Z"
    }
   },
   "outputs": [],
   "source": [
    "train['Cabin'].unique()"
   ]
  },
  {
   "cell_type": "code",
   "execution_count": null,
   "metadata": {
    "execution": {
     "iopub.execute_input": "2021-05-25T21:20:32.193937Z",
     "iopub.status.busy": "2021-05-25T21:20:32.193621Z",
     "iopub.status.idle": "2021-05-25T21:20:32.204931Z",
     "shell.execute_reply": "2021-05-25T21:20:32.203891Z",
     "shell.execute_reply.started": "2021-05-25T21:20:32.193908Z"
    }
   },
   "outputs": [],
   "source": [
    "# Fill na with letter 'U' from Unknown to be used for analysis against Survived\n",
    "train['Cabin'].fillna('U',inplace=True)"
   ]
  },
  {
   "cell_type": "code",
   "execution_count": null,
   "metadata": {
    "execution": {
     "iopub.execute_input": "2021-05-25T21:20:32.206278Z",
     "iopub.status.busy": "2021-05-25T21:20:32.20599Z",
     "iopub.status.idle": "2021-05-25T21:20:32.218369Z",
     "shell.execute_reply": "2021-05-25T21:20:32.217183Z",
     "shell.execute_reply.started": "2021-05-25T21:20:32.206249Z"
    }
   },
   "outputs": [],
   "source": [
    "cabin_letter = train.copy()"
   ]
  },
  {
   "cell_type": "code",
   "execution_count": null,
   "metadata": {
    "execution": {
     "iopub.execute_input": "2021-05-25T21:20:32.221196Z",
     "iopub.status.busy": "2021-05-25T21:20:32.220749Z",
     "iopub.status.idle": "2021-05-25T21:20:32.234229Z",
     "shell.execute_reply": "2021-05-25T21:20:32.232993Z",
     "shell.execute_reply.started": "2021-05-25T21:20:32.22115Z"
    }
   },
   "outputs": [],
   "source": [
    "cabin_letter['cabin_letter'] = cabin_letter['Cabin'].str[0]"
   ]
  },
  {
   "cell_type": "code",
   "execution_count": null,
   "metadata": {
    "execution": {
     "iopub.execute_input": "2021-05-25T21:20:32.236088Z",
     "iopub.status.busy": "2021-05-25T21:20:32.235617Z",
     "iopub.status.idle": "2021-05-25T21:20:32.252837Z",
     "shell.execute_reply": "2021-05-25T21:20:32.251745Z",
     "shell.execute_reply.started": "2021-05-25T21:20:32.236042Z"
    }
   },
   "outputs": [],
   "source": [
    "c_letter = cabin_letter.groupby('cabin_letter')['Survived'].value_counts(normalize=True).mul(100).rename('percent').reset_index()"
   ]
  },
  {
   "cell_type": "code",
   "execution_count": null,
   "metadata": {
    "execution": {
     "iopub.execute_input": "2021-05-25T21:20:32.254961Z",
     "iopub.status.busy": "2021-05-25T21:20:32.254433Z",
     "iopub.status.idle": "2021-05-25T21:20:32.272044Z",
     "shell.execute_reply": "2021-05-25T21:20:32.270837Z",
     "shell.execute_reply.started": "2021-05-25T21:20:32.254914Z"
    }
   },
   "outputs": [],
   "source": [
    "c_letter"
   ]
  },
  {
   "cell_type": "code",
   "execution_count": null,
   "metadata": {
    "execution": {
     "iopub.execute_input": "2021-05-25T21:20:32.273942Z",
     "iopub.status.busy": "2021-05-25T21:20:32.273509Z",
     "iopub.status.idle": "2021-05-25T21:20:32.288973Z",
     "shell.execute_reply": "2021-05-25T21:20:32.287775Z",
     "shell.execute_reply.started": "2021-05-25T21:20:32.273906Z"
    }
   },
   "outputs": [],
   "source": [
    "c_letter_dist = cabin_letter['cabin_letter'].value_counts(normalize=True).mul(100).reset_index().rename(columns={'index': 'cabin_letter','cabin_letter':'percent'})"
   ]
  },
  {
   "cell_type": "code",
   "execution_count": null,
   "metadata": {
    "execution": {
     "iopub.execute_input": "2021-05-25T21:20:32.290347Z",
     "iopub.status.busy": "2021-05-25T21:20:32.290083Z",
     "iopub.status.idle": "2021-05-25T21:20:32.309227Z",
     "shell.execute_reply": "2021-05-25T21:20:32.308172Z",
     "shell.execute_reply.started": "2021-05-25T21:20:32.290321Z"
    }
   },
   "outputs": [],
   "source": [
    "c_letter_dist"
   ]
  },
  {
   "cell_type": "code",
   "execution_count": null,
   "metadata": {
    "execution": {
     "iopub.execute_input": "2021-05-25T21:20:32.311045Z",
     "iopub.status.busy": "2021-05-25T21:20:32.310428Z",
     "iopub.status.idle": "2021-05-25T21:20:32.883031Z",
     "shell.execute_reply": "2021-05-25T21:20:32.881988Z",
     "shell.execute_reply.started": "2021-05-25T21:20:32.311009Z"
    }
   },
   "outputs": [],
   "source": [
    "fig, axs = plt.subplots(nrows=1,ncols=2,figsize=(20,6))\n",
    "sns.set_style('darkgrid')\n",
    "#sns.set_context('paper',font_scale=1)\n",
    "\n",
    "plt.suptitle('Cabins feature distribution')\n",
    "axs[0].set_title('Passengers per Cabin class')\n",
    "axs[1].set_title('Survival rate per Cabin class')\n",
    "\n",
    "sns.barplot(ax=axs[0],x='cabin_letter',y='percent',data=c_letter_dist);\n",
    "sns.barplot(ax=axs[1], x='cabin_letter',y='percent',data=c_letter,hue='Survived');"
   ]
  },
  {
   "cell_type": "markdown",
   "metadata": {},
   "source": [
    "It seems `Cabin` is a good candidate to be also engineered into 2 single classes (known and unkown) since it seems that passagers with known cabins had more change of surviving."
   ]
  },
  {
   "cell_type": "markdown",
   "metadata": {},
   "source": [
    "### <a id='Link-SecB-m'>Name vs Survival rate</a>"
   ]
  },
  {
   "cell_type": "markdown",
   "metadata": {},
   "source": [
    "Intuitively your name should not increaseor decrease your chance of survival but the title in the name might be of some use. We will extract the title and check it against the survival rate."
   ]
  },
  {
   "cell_type": "code",
   "execution_count": null,
   "metadata": {
    "execution": {
     "iopub.execute_input": "2021-05-25T21:20:32.884679Z",
     "iopub.status.busy": "2021-05-25T21:20:32.884356Z",
     "iopub.status.idle": "2021-05-25T21:20:32.896479Z",
     "shell.execute_reply": "2021-05-25T21:20:32.895158Z",
     "shell.execute_reply.started": "2021-05-25T21:20:32.884633Z"
    }
   },
   "outputs": [],
   "source": [
    "# check unique titles\n",
    "train['Name'].str.extract(' ([A-Za-z]+)\\.', expand=False).value_counts()"
   ]
  },
  {
   "cell_type": "code",
   "execution_count": null,
   "metadata": {
    "execution": {
     "iopub.execute_input": "2021-05-25T21:20:32.898593Z",
     "iopub.status.busy": "2021-05-25T21:20:32.898167Z",
     "iopub.status.idle": "2021-05-25T21:20:32.909972Z",
     "shell.execute_reply": "2021-05-25T21:20:32.90869Z",
     "shell.execute_reply.started": "2021-05-25T21:20:32.898535Z"
    }
   },
   "outputs": [],
   "source": [
    "c = train['Name']"
   ]
  },
  {
   "cell_type": "code",
   "execution_count": null,
   "metadata": {
    "execution": {
     "iopub.execute_input": "2021-05-25T21:20:32.91192Z",
     "iopub.status.busy": "2021-05-25T21:20:32.911491Z",
     "iopub.status.idle": "2021-05-25T21:20:32.924988Z",
     "shell.execute_reply": "2021-05-25T21:20:32.92376Z",
     "shell.execute_reply.started": "2021-05-25T21:20:32.911781Z"
    }
   },
   "outputs": [],
   "source": [
    "c = c.tolist()"
   ]
  },
  {
   "cell_type": "code",
   "execution_count": null,
   "metadata": {
    "execution": {
     "iopub.execute_input": "2021-05-25T21:20:32.927846Z",
     "iopub.status.busy": "2021-05-25T21:20:32.927331Z",
     "iopub.status.idle": "2021-05-25T21:20:32.941114Z",
     "shell.execute_reply": "2021-05-25T21:20:32.940119Z",
     "shell.execute_reply.started": "2021-05-25T21:20:32.927795Z"
    }
   },
   "outputs": [],
   "source": [
    "d = []\n",
    "\n",
    "def ttle(name):\n",
    "    for i in c:\n",
    "        if 'Mr.' in i:\n",
    "            d.append('Mr')\n",
    "        elif 'Dr.' in i:\n",
    "            d.append('Mr')\n",
    "        elif 'Rev.' in i:\n",
    "            d.append('Mr')\n",
    "        elif 'Col.' in i:\n",
    "            d.append('Mr')\n",
    "        elif 'Capt.' in i:\n",
    "            d.append('Mr')\n",
    "        elif 'Major.' in i:\n",
    "            d.append('Mr')\n",
    "        elif 'Don.' in i:\n",
    "            d.append('Mr')\n",
    "        elif 'Sir.' in i:\n",
    "            d.append('Mr')\n",
    "        \n",
    "        elif 'Master.' in i:\n",
    "            d.append('Master')\n",
    "        \n",
    "        elif 'Miss.' in i:\n",
    "            d.append('Miss')\n",
    "        elif 'Mlle.' in i:\n",
    "            d.append('Miss')\n",
    "        elif 'Mme.' in i:\n",
    "            d.append('Miss')\n",
    "        elif 'Ms.' in i:\n",
    "            d.append('Miss')\n",
    "            \n",
    "        elif 'Mrs.' in i:\n",
    "            d.append('Mrs')\n",
    "        elif 'Countess.' in i:\n",
    "            d.append('Mrs')\n",
    "        elif 'Lady.' in i:\n",
    "            d.append('Mrs')\n",
    "        elif 'Dona.' in i:\n",
    "            d.append('Mrs')\n",
    "            \n",
    "ttle(c)"
   ]
  },
  {
   "cell_type": "code",
   "execution_count": null,
   "metadata": {
    "execution": {
     "iopub.execute_input": "2021-05-25T21:20:32.942944Z",
     "iopub.status.busy": "2021-05-25T21:20:32.942589Z",
     "iopub.status.idle": "2021-05-25T21:20:32.95772Z",
     "shell.execute_reply": "2021-05-25T21:20:32.95601Z",
     "shell.execute_reply.started": "2021-05-25T21:20:32.942912Z"
    }
   },
   "outputs": [],
   "source": [
    "d2 = pd.Series(d)"
   ]
  },
  {
   "cell_type": "code",
   "execution_count": null,
   "metadata": {
    "execution": {
     "iopub.execute_input": "2021-05-25T21:20:32.961296Z",
     "iopub.status.busy": "2021-05-25T21:20:32.960795Z",
     "iopub.status.idle": "2021-05-25T21:20:32.980307Z",
     "shell.execute_reply": "2021-05-25T21:20:32.978817Z",
     "shell.execute_reply.started": "2021-05-25T21:20:32.961248Z"
    }
   },
   "outputs": [],
   "source": [
    "d2.value_counts()"
   ]
  },
  {
   "cell_type": "code",
   "execution_count": null,
   "metadata": {
    "execution": {
     "iopub.execute_input": "2021-05-25T21:20:32.982116Z",
     "iopub.status.busy": "2021-05-25T21:20:32.981673Z",
     "iopub.status.idle": "2021-05-25T21:20:32.997493Z",
     "shell.execute_reply": "2021-05-25T21:20:32.996424Z",
     "shell.execute_reply.started": "2021-05-25T21:20:32.982077Z"
    }
   },
   "outputs": [],
   "source": [
    "train['Title'] = d2"
   ]
  },
  {
   "cell_type": "code",
   "execution_count": null,
   "metadata": {
    "execution": {
     "iopub.execute_input": "2021-05-25T21:20:32.999422Z",
     "iopub.status.busy": "2021-05-25T21:20:32.998934Z",
     "iopub.status.idle": "2021-05-25T21:20:33.030471Z",
     "shell.execute_reply": "2021-05-25T21:20:33.029305Z",
     "shell.execute_reply.started": "2021-05-25T21:20:32.999376Z"
    },
    "tags": []
   },
   "outputs": [],
   "source": [
    "train.head()"
   ]
  },
  {
   "cell_type": "code",
   "execution_count": null,
   "metadata": {
    "execution": {
     "iopub.execute_input": "2021-05-25T21:20:33.032879Z",
     "iopub.status.busy": "2021-05-25T21:20:33.032199Z",
     "iopub.status.idle": "2021-05-25T21:20:33.048456Z",
     "shell.execute_reply": "2021-05-25T21:20:33.0473Z",
     "shell.execute_reply.started": "2021-05-25T21:20:33.032833Z"
    }
   },
   "outputs": [],
   "source": [
    "title_dist = train['Title'].value_counts(normalize=True).mul(100).reset_index().rename(columns={'index': 'Title','Title':'percent'})"
   ]
  },
  {
   "cell_type": "code",
   "execution_count": null,
   "metadata": {
    "execution": {
     "iopub.execute_input": "2021-05-25T21:20:33.050593Z",
     "iopub.status.busy": "2021-05-25T21:20:33.050164Z",
     "iopub.status.idle": "2021-05-25T21:20:33.071735Z",
     "shell.execute_reply": "2021-05-25T21:20:33.070404Z",
     "shell.execute_reply.started": "2021-05-25T21:20:33.050549Z"
    }
   },
   "outputs": [],
   "source": [
    "title_dist"
   ]
  },
  {
   "cell_type": "code",
   "execution_count": null,
   "metadata": {
    "execution": {
     "iopub.execute_input": "2021-05-25T21:20:33.074793Z",
     "iopub.status.busy": "2021-05-25T21:20:33.074062Z",
     "iopub.status.idle": "2021-05-25T21:20:33.092478Z",
     "shell.execute_reply": "2021-05-25T21:20:33.091229Z",
     "shell.execute_reply.started": "2021-05-25T21:20:33.074742Z"
    }
   },
   "outputs": [],
   "source": [
    "title = train.groupby('Title')['Survived'].value_counts(normalize=True).mul(100).rename('percent').reset_index()\n"
   ]
  },
  {
   "cell_type": "code",
   "execution_count": null,
   "metadata": {
    "execution": {
     "iopub.execute_input": "2021-05-25T21:20:33.095027Z",
     "iopub.status.busy": "2021-05-25T21:20:33.094349Z",
     "iopub.status.idle": "2021-05-25T21:20:33.109276Z",
     "shell.execute_reply": "2021-05-25T21:20:33.108175Z",
     "shell.execute_reply.started": "2021-05-25T21:20:33.094975Z"
    }
   },
   "outputs": [],
   "source": [
    "title"
   ]
  },
  {
   "cell_type": "code",
   "execution_count": null,
   "metadata": {
    "execution": {
     "iopub.execute_input": "2021-05-25T21:20:33.111315Z",
     "iopub.status.busy": "2021-05-25T21:20:33.110988Z",
     "iopub.status.idle": "2021-05-25T21:20:33.542565Z",
     "shell.execute_reply": "2021-05-25T21:20:33.541734Z",
     "shell.execute_reply.started": "2021-05-25T21:20:33.111285Z"
    }
   },
   "outputs": [],
   "source": [
    "fig, axs = plt.subplots(nrows=1,ncols=2,figsize=(20,6))\n",
    "sns.set_style('darkgrid')\n",
    "#sns.set_context('paper',font_scale=1)\n",
    "\n",
    "plt.suptitle('Title feature distribution')\n",
    "axs[0].set_title('Passengers per Title')\n",
    "axs[1].set_title('Survival rate per Title')\n",
    "\n",
    "sns.barplot(ax=axs[0],x='Title',y='percent',data=title_dist);\n",
    "sns.barplot(ax=axs[1], x='Title',y='percent',data=title,hue='Survived');"
   ]
  },
  {
   "cell_type": "markdown",
   "metadata": {},
   "source": [
    "The survival rate across different titles is surprinsingly balanced. We will later drop the name and keep only the title as a engineered feature."
   ]
  },
  {
   "cell_type": "code",
   "execution_count": null,
   "metadata": {
    "execution": {
     "iopub.execute_input": "2021-05-25T21:20:33.544049Z",
     "iopub.status.busy": "2021-05-25T21:20:33.543618Z",
     "iopub.status.idle": "2021-05-25T21:20:33.565111Z",
     "shell.execute_reply": "2021-05-25T21:20:33.563963Z",
     "shell.execute_reply.started": "2021-05-25T21:20:33.544017Z"
    }
   },
   "outputs": [],
   "source": [
    "train.head()"
   ]
  },
  {
   "cell_type": "markdown",
   "metadata": {},
   "source": [
    "We will now have a look at the corrrelation between categorical features to try to improve our understanding on how they can 'explain' each other and help us make decisions on which one we should keep, engineer or drop."
   ]
  },
  {
   "cell_type": "code",
   "execution_count": null,
   "metadata": {
    "execution": {
     "iopub.execute_input": "2021-05-25T21:20:33.566823Z",
     "iopub.status.busy": "2021-05-25T21:20:33.566466Z",
     "iopub.status.idle": "2021-05-25T21:20:42.581976Z",
     "shell.execute_reply": "2021-05-25T21:20:42.580781Z",
     "shell.execute_reply.started": "2021-05-25T21:20:33.566775Z"
    }
   },
   "outputs": [],
   "source": [
    "pip install  dython"
   ]
  },
  {
   "cell_type": "code",
   "execution_count": null,
   "metadata": {
    "execution": {
     "iopub.execute_input": "2021-05-25T21:20:42.58374Z",
     "iopub.status.busy": "2021-05-25T21:20:42.583425Z",
     "iopub.status.idle": "2021-05-25T21:20:43.170309Z",
     "shell.execute_reply": "2021-05-25T21:20:43.169337Z",
     "shell.execute_reply.started": "2021-05-25T21:20:42.58371Z"
    }
   },
   "outputs": [],
   "source": [
    "from dython.nominal import associations"
   ]
  },
  {
   "cell_type": "code",
   "execution_count": null,
   "metadata": {
    "execution": {
     "iopub.execute_input": "2021-05-25T21:20:43.172068Z",
     "iopub.status.busy": "2021-05-25T21:20:43.171785Z",
     "iopub.status.idle": "2021-05-25T21:20:43.734962Z",
     "shell.execute_reply": "2021-05-25T21:20:43.733764Z",
     "shell.execute_reply.started": "2021-05-25T21:20:43.172041Z"
    }
   },
   "outputs": [],
   "source": [
    "# sns.set_context('paper',font_scale=1.2)\n",
    "\n",
    "cat_cols = ['Survived', 'Pclass', 'Sex', 'SibSp',\n",
    "            'Parch', 'Cabin', 'Embarked']\n",
    "\n",
    "fig1 = associations(train.drop(['Name','Ticket','Age','Fare','Family','Cabin','Title'],axis=1),\n",
    "                    figsize=(14,7),\n",
    "                    theil_u=True, nominal_columns=cat_cols,\n",
    "                    #title='Fig. 1. Associations between features.',\n",
    "                    mark_columns=True);"
   ]
  },
  {
   "cell_type": "markdown",
   "metadata": {},
   "source": [
    "Let's have a quick look at the test data set for missing data only."
   ]
  },
  {
   "cell_type": "markdown",
   "metadata": {},
   "source": [
    "## <a id='Link-SecB-n'>Test dataset</a>"
   ]
  },
  {
   "cell_type": "code",
   "execution_count": null,
   "metadata": {
    "execution": {
     "iopub.execute_input": "2021-05-25T21:20:43.736824Z",
     "iopub.status.busy": "2021-05-25T21:20:43.736482Z",
     "iopub.status.idle": "2021-05-25T21:20:43.751179Z",
     "shell.execute_reply": "2021-05-25T21:20:43.749963Z",
     "shell.execute_reply.started": "2021-05-25T21:20:43.736792Z"
    }
   },
   "outputs": [],
   "source": [
    "test = pd.read_csv('../input/titanic/test.csv')\n",
    "ids_test = test['PassengerId'].values"
   ]
  },
  {
   "cell_type": "code",
   "execution_count": null,
   "metadata": {
    "execution": {
     "iopub.execute_input": "2021-05-25T21:20:43.752857Z",
     "iopub.status.busy": "2021-05-25T21:20:43.752529Z",
     "iopub.status.idle": "2021-05-25T21:20:43.773062Z",
     "shell.execute_reply": "2021-05-25T21:20:43.771849Z",
     "shell.execute_reply.started": "2021-05-25T21:20:43.752827Z"
    }
   },
   "outputs": [],
   "source": [
    "test.head()"
   ]
  },
  {
   "cell_type": "code",
   "execution_count": null,
   "metadata": {
    "execution": {
     "iopub.execute_input": "2021-05-25T21:20:43.775112Z",
     "iopub.status.busy": "2021-05-25T21:20:43.774686Z",
     "iopub.status.idle": "2021-05-25T21:20:43.786932Z",
     "shell.execute_reply": "2021-05-25T21:20:43.785607Z",
     "shell.execute_reply.started": "2021-05-25T21:20:43.775066Z"
    }
   },
   "outputs": [],
   "source": [
    "print(f'There are {test.shape[0]} rows in the data frame')\n",
    "print(f'There are {test.shape[1]} columns in the data frame')"
   ]
  },
  {
   "cell_type": "code",
   "execution_count": null,
   "metadata": {
    "execution": {
     "iopub.execute_input": "2021-05-25T21:20:43.789044Z",
     "iopub.status.busy": "2021-05-25T21:20:43.788686Z",
     "iopub.status.idle": "2021-05-25T21:20:43.810485Z",
     "shell.execute_reply": "2021-05-25T21:20:43.809189Z",
     "shell.execute_reply.started": "2021-05-25T21:20:43.789011Z"
    }
   },
   "outputs": [],
   "source": [
    "test.info()"
   ]
  },
  {
   "cell_type": "markdown",
   "metadata": {},
   "source": [
    "### <a id='Link-SecB-o'>Checking for missing values</a>"
   ]
  },
  {
   "cell_type": "code",
   "execution_count": null,
   "metadata": {
    "execution": {
     "iopub.execute_input": "2021-05-25T21:20:43.813168Z",
     "iopub.status.busy": "2021-05-25T21:20:43.812385Z",
     "iopub.status.idle": "2021-05-25T21:20:43.828879Z",
     "shell.execute_reply": "2021-05-25T21:20:43.827635Z",
     "shell.execute_reply.started": "2021-05-25T21:20:43.813114Z"
    }
   },
   "outputs": [],
   "source": [
    "test.isnull().values.any()"
   ]
  },
  {
   "cell_type": "code",
   "execution_count": null,
   "metadata": {
    "execution": {
     "iopub.execute_input": "2021-05-25T21:20:43.83103Z",
     "iopub.status.busy": "2021-05-25T21:20:43.830591Z",
     "iopub.status.idle": "2021-05-25T21:20:43.986771Z",
     "shell.execute_reply": "2021-05-25T21:20:43.98544Z",
     "shell.execute_reply.started": "2021-05-25T21:20:43.830981Z"
    }
   },
   "outputs": [],
   "source": [
    "test.isnull().sum()"
   ]
  },
  {
   "cell_type": "code",
   "execution_count": null,
   "metadata": {
    "execution": {
     "iopub.execute_input": "2021-05-25T21:20:43.988585Z",
     "iopub.status.busy": "2021-05-25T21:20:43.988265Z",
     "iopub.status.idle": "2021-05-25T21:20:44.220183Z",
     "shell.execute_reply": "2021-05-25T21:20:44.218984Z",
     "shell.execute_reply.started": "2021-05-25T21:20:43.988555Z"
    }
   },
   "outputs": [],
   "source": [
    "sns.heatmap(test.isnull(),yticklabels=False,cbar=False,cmap='viridis')"
   ]
  },
  {
   "cell_type": "markdown",
   "metadata": {},
   "source": [
    "Cabin, Fare and Age have missig values. That will be rectified in the next section"
   ]
  },
  {
   "cell_type": "markdown",
   "metadata": {},
   "source": [
    "_____"
   ]
  },
  {
   "cell_type": "markdown",
   "metadata": {
    "tags": []
   },
   "source": [
    "# <a id='Link-SecC'>Feature engineering and preparation</a>"
   ]
  },
  {
   "cell_type": "markdown",
   "metadata": {},
   "source": [
    "___"
   ]
  },
  {
   "cell_type": "code",
   "execution_count": null,
   "metadata": {
    "execution": {
     "iopub.execute_input": "2021-05-25T21:20:44.22269Z",
     "iopub.status.busy": "2021-05-25T21:20:44.222124Z",
     "iopub.status.idle": "2021-05-25T21:20:44.244409Z",
     "shell.execute_reply": "2021-05-25T21:20:44.243664Z",
     "shell.execute_reply.started": "2021-05-25T21:20:44.222603Z"
    }
   },
   "outputs": [],
   "source": [
    "# Combining test and train datasets and setting\n",
    "train = pd.read_csv('../input/titanic/train.csv')\n",
    "test = pd.read_csv('../input/titanic/test.csv')\n",
    "full_set = pd.concat([train,test],axis=0).reset_index(drop=True)"
   ]
  },
  {
   "cell_type": "code",
   "execution_count": null,
   "metadata": {
    "execution": {
     "iopub.execute_input": "2021-05-25T21:20:44.246313Z",
     "iopub.status.busy": "2021-05-25T21:20:44.245712Z",
     "iopub.status.idle": "2021-05-25T21:20:44.253171Z",
     "shell.execute_reply": "2021-05-25T21:20:44.251845Z",
     "shell.execute_reply.started": "2021-05-25T21:20:44.246268Z"
    }
   },
   "outputs": [],
   "source": [
    "# Set 'PassengerId' as index for future split\n",
    "full_set.set_index(keys='PassengerId',inplace=True)"
   ]
  },
  {
   "cell_type": "code",
   "execution_count": null,
   "metadata": {
    "execution": {
     "iopub.execute_input": "2021-05-25T21:20:44.255466Z",
     "iopub.status.busy": "2021-05-25T21:20:44.255019Z",
     "iopub.status.idle": "2021-05-25T21:20:44.282013Z",
     "shell.execute_reply": "2021-05-25T21:20:44.28058Z",
     "shell.execute_reply.started": "2021-05-25T21:20:44.255416Z"
    }
   },
   "outputs": [],
   "source": [
    "full_set.tail()"
   ]
  },
  {
   "cell_type": "markdown",
   "metadata": {},
   "source": [
    "Function to check missing values and return a data frame with a summary"
   ]
  },
  {
   "cell_type": "code",
   "execution_count": null,
   "metadata": {
    "execution": {
     "iopub.execute_input": "2021-05-25T21:20:44.285015Z",
     "iopub.status.busy": "2021-05-25T21:20:44.28462Z",
     "iopub.status.idle": "2021-05-25T21:20:44.31124Z",
     "shell.execute_reply": "2021-05-25T21:20:44.310027Z",
     "shell.execute_reply.started": "2021-05-25T21:20:44.284984Z"
    }
   },
   "outputs": [],
   "source": [
    "def missing_value(df):\n",
    "    number = df.isnull().sum().sort_values(ascending=False)\n",
    "    number = number[number > 0]\n",
    "    percentage = df.isnull().sum() *100 / df.shape[0]\n",
    "    percentage = percentage[percentage > 0].sort_values(ascending=False)\n",
    "    return  pd.concat([number,percentage],keys=[\"Total\",\"Percentage\"],axis=1)\n",
    "missing_value(full_set.drop('Survived',axis=1))"
   ]
  },
  {
   "cell_type": "markdown",
   "metadata": {},
   "source": [
    "### <a id='Link-SecC-a'>Cabin feature</a>"
   ]
  },
  {
   "cell_type": "markdown",
   "metadata": {},
   "source": [
    "We decided to group the cabins into 'known' and 'unknown' classes:\n",
    "- all uknown cabin data will be 0\n",
    "- all known cabin data will be 1"
   ]
  },
  {
   "cell_type": "code",
   "execution_count": null,
   "metadata": {
    "execution": {
     "iopub.execute_input": "2021-05-25T21:20:44.313304Z",
     "iopub.status.busy": "2021-05-25T21:20:44.312908Z",
     "iopub.status.idle": "2021-05-25T21:20:44.321693Z",
     "shell.execute_reply": "2021-05-25T21:20:44.319283Z",
     "shell.execute_reply.started": "2021-05-25T21:20:44.313272Z"
    }
   },
   "outputs": [],
   "source": [
    "full_set['Cabin'].fillna(0,inplace=True)"
   ]
  },
  {
   "cell_type": "code",
   "execution_count": null,
   "metadata": {
    "execution": {
     "iopub.execute_input": "2021-05-25T21:20:44.323821Z",
     "iopub.status.busy": "2021-05-25T21:20:44.323342Z",
     "iopub.status.idle": "2021-05-25T21:20:44.335037Z",
     "shell.execute_reply": "2021-05-25T21:20:44.334082Z",
     "shell.execute_reply.started": "2021-05-25T21:20:44.323782Z"
    }
   },
   "outputs": [],
   "source": [
    "def cab_map(row):\n",
    "    if row['Cabin'] != 0:\n",
    "        return 1\n",
    "    else:\n",
    "        return row['Cabin']"
   ]
  },
  {
   "cell_type": "code",
   "execution_count": null,
   "metadata": {
    "execution": {
     "iopub.execute_input": "2021-05-25T21:20:44.336475Z",
     "iopub.status.busy": "2021-05-25T21:20:44.336199Z",
     "iopub.status.idle": "2021-05-25T21:20:44.37774Z",
     "shell.execute_reply": "2021-05-25T21:20:44.376666Z",
     "shell.execute_reply.started": "2021-05-25T21:20:44.336448Z"
    }
   },
   "outputs": [],
   "source": [
    "full_set['Cabin'] = full_set.apply(lambda row: cab_map(row),axis=1)"
   ]
  },
  {
   "cell_type": "code",
   "execution_count": null,
   "metadata": {
    "execution": {
     "iopub.execute_input": "2021-05-25T21:20:44.379406Z",
     "iopub.status.busy": "2021-05-25T21:20:44.379115Z",
     "iopub.status.idle": "2021-05-25T21:20:44.38718Z",
     "shell.execute_reply": "2021-05-25T21:20:44.385946Z",
     "shell.execute_reply.started": "2021-05-25T21:20:44.379377Z"
    }
   },
   "outputs": [],
   "source": [
    "full_set['Cabin'].head()"
   ]
  },
  {
   "cell_type": "markdown",
   "metadata": {},
   "source": [
    "### <a id='Link-SecC-b'>Age feature</a>"
   ]
  },
  {
   "cell_type": "markdown",
   "metadata": {},
   "source": [
    "From the EDA above we built an intuiton that age seem to be well connected to the different `Pclass` on board Titanic maybe as a result of the difference in the ticket price across the classes. One could assume than younger people would have less money than older, better established man, and therefore would travel on third class instead. We decided to give another check to confirm this theory. See below:"
   ]
  },
  {
   "cell_type": "code",
   "execution_count": null,
   "metadata": {
    "execution": {
     "iopub.execute_input": "2021-05-25T21:20:44.388979Z",
     "iopub.status.busy": "2021-05-25T21:20:44.388621Z",
     "iopub.status.idle": "2021-05-25T21:20:44.60182Z",
     "shell.execute_reply": "2021-05-25T21:20:44.60085Z",
     "shell.execute_reply.started": "2021-05-25T21:20:44.388945Z"
    }
   },
   "outputs": [],
   "source": [
    "plt.figure(figsize=(10,6))\n",
    "sns.boxplot(x='Pclass',y='Age',data=full_set);\n"
   ]
  },
  {
   "cell_type": "markdown",
   "metadata": {},
   "source": [
    "Above we can see the boxplot distribution of `Age` per `Pclass` and it does seem that the average age distribution is different for each class."
   ]
  },
  {
   "cell_type": "markdown",
   "metadata": {},
   "source": [
    "Let's have a look at a kde plot to double check the change:"
   ]
  },
  {
   "cell_type": "code",
   "execution_count": null,
   "metadata": {
    "execution": {
     "iopub.execute_input": "2021-05-25T21:20:44.604241Z",
     "iopub.status.busy": "2021-05-25T21:20:44.603805Z",
     "iopub.status.idle": "2021-05-25T21:20:44.908408Z",
     "shell.execute_reply": "2021-05-25T21:20:44.907689Z",
     "shell.execute_reply.started": "2021-05-25T21:20:44.604196Z"
    }
   },
   "outputs": [],
   "source": [
    "fig, axs = plt.subplots(figsize=(10,6))\n",
    "\n",
    "sns.kdeplot(full_set['Age'][full_set['Pclass'] == 1],legend=True,label='Pclass 1 - mean 39 yrs',shade=True)\n",
    "sns.kdeplot(full_set['Age'][full_set['Pclass'] == 2],legend=True,label='Pclass 2 - mean 29 yrs',shade=True)\n",
    "sns.kdeplot(full_set['Age'][full_set['Pclass'] == 3],legend=True,label='Pclass 3 - mean 24 yrs',shade=True)\n",
    "plt.legend();"
   ]
  },
  {
   "cell_type": "code",
   "execution_count": null,
   "metadata": {
    "execution": {
     "iopub.execute_input": "2021-05-25T21:20:44.91017Z",
     "iopub.status.busy": "2021-05-25T21:20:44.909691Z",
     "iopub.status.idle": "2021-05-25T21:20:44.933591Z",
     "shell.execute_reply": "2021-05-25T21:20:44.932752Z",
     "shell.execute_reply.started": "2021-05-25T21:20:44.910138Z"
    }
   },
   "outputs": [],
   "source": [
    "full_set.groupby('Pclass')['Age'].describe().transpose()"
   ]
  },
  {
   "cell_type": "code",
   "execution_count": null,
   "metadata": {
    "execution": {
     "iopub.execute_input": "2021-05-25T21:20:44.935165Z",
     "iopub.status.busy": "2021-05-25T21:20:44.934884Z",
     "iopub.status.idle": "2021-05-25T21:20:44.940944Z",
     "shell.execute_reply": "2021-05-25T21:20:44.939751Z",
     "shell.execute_reply.started": "2021-05-25T21:20:44.935137Z"
    }
   },
   "outputs": [],
   "source": [
    "def impute_age(cols):\n",
    "    Age = cols[0]\n",
    "    Pclass = cols[1]\n",
    "    \n",
    "    if pd.isnull(Age):\n",
    "\n",
    "        if Pclass == 1:\n",
    "            return 39\n",
    "\n",
    "        elif Pclass == 2:\n",
    "            return 29\n",
    "\n",
    "        else:\n",
    "            return 24\n",
    "\n",
    "    else:\n",
    "        return Age"
   ]
  },
  {
   "cell_type": "code",
   "execution_count": null,
   "metadata": {
    "execution": {
     "iopub.execute_input": "2021-05-25T21:20:44.943685Z",
     "iopub.status.busy": "2021-05-25T21:20:44.943233Z",
     "iopub.status.idle": "2021-05-25T21:20:44.980875Z",
     "shell.execute_reply": "2021-05-25T21:20:44.979806Z",
     "shell.execute_reply.started": "2021-05-25T21:20:44.943626Z"
    }
   },
   "outputs": [],
   "source": [
    "full_set['Age'] = full_set[['Age','Pclass']].apply(impute_age,axis=1)"
   ]
  },
  {
   "cell_type": "markdown",
   "metadata": {},
   "source": [
    "### <a id='Link-SecC-c'>Embarked feature </a>"
   ]
  },
  {
   "cell_type": "markdown",
   "metadata": {},
   "source": [
    "Only 2 missing data here. Checking the passengers individually."
   ]
  },
  {
   "cell_type": "code",
   "execution_count": null,
   "metadata": {
    "execution": {
     "iopub.execute_input": "2021-05-25T21:20:44.983217Z",
     "iopub.status.busy": "2021-05-25T21:20:44.982756Z",
     "iopub.status.idle": "2021-05-25T21:20:45.007122Z",
     "shell.execute_reply": "2021-05-25T21:20:45.005935Z",
     "shell.execute_reply.started": "2021-05-25T21:20:44.983167Z"
    }
   },
   "outputs": [],
   "source": [
    "full_set[full_set['Embarked'].isnull()]"
   ]
  },
  {
   "cell_type": "markdown",
   "metadata": {},
   "source": [
    "Filtering the full data set and counting of all passangers with known cabin that paid 80 or more for the ticked:"
   ]
  },
  {
   "cell_type": "code",
   "execution_count": null,
   "metadata": {
    "execution": {
     "iopub.execute_input": "2021-05-25T21:20:45.01123Z",
     "iopub.status.busy": "2021-05-25T21:20:45.009391Z",
     "iopub.status.idle": "2021-05-25T21:20:45.026343Z",
     "shell.execute_reply": "2021-05-25T21:20:45.0256Z",
     "shell.execute_reply.started": "2021-05-25T21:20:45.011187Z"
    }
   },
   "outputs": [],
   "source": [
    "sim_embarked = full_set[(full_set.Pclass == 1) & \n",
    "                            (full_set['Cabin'] == 1) &\n",
    "                            (full_set['Fare'] >= 80)]\n",
    "sim_embarked['Embarked'].value_counts()"
   ]
  },
  {
   "cell_type": "markdown",
   "metadata": {},
   "source": [
    "Decided to impute these 2 individuals as 'C' "
   ]
  },
  {
   "cell_type": "code",
   "execution_count": null,
   "metadata": {
    "execution": {
     "iopub.execute_input": "2021-05-25T21:20:45.029872Z",
     "iopub.status.busy": "2021-05-25T21:20:45.029538Z",
     "iopub.status.idle": "2021-05-25T21:20:45.044222Z",
     "shell.execute_reply": "2021-05-25T21:20:45.043116Z",
     "shell.execute_reply.started": "2021-05-25T21:20:45.029841Z"
    }
   },
   "outputs": [],
   "source": [
    "full_set['Embarked'].fillna('C',inplace=True)"
   ]
  },
  {
   "cell_type": "markdown",
   "metadata": {},
   "source": [
    "### <a id='Link-SecC-d'>Fare feature </a>"
   ]
  },
  {
   "cell_type": "markdown",
   "metadata": {},
   "source": [
    "Only 1 individual that we don't know the `Fare` paid."
   ]
  },
  {
   "cell_type": "code",
   "execution_count": null,
   "metadata": {
    "execution": {
     "iopub.execute_input": "2021-05-25T21:20:45.045956Z",
     "iopub.status.busy": "2021-05-25T21:20:45.0456Z",
     "iopub.status.idle": "2021-05-25T21:20:45.07522Z",
     "shell.execute_reply": "2021-05-25T21:20:45.074341Z",
     "shell.execute_reply.started": "2021-05-25T21:20:45.045923Z"
    }
   },
   "outputs": [],
   "source": [
    "full_set[full_set['Fare'].isnull()]"
   ]
  },
  {
   "cell_type": "markdown",
   "metadata": {},
   "source": [
    "Will look at individuals in third class that embarked in Southampton"
   ]
  },
  {
   "cell_type": "code",
   "execution_count": null,
   "metadata": {
    "execution": {
     "iopub.execute_input": "2021-05-25T21:20:45.076709Z",
     "iopub.status.busy": "2021-05-25T21:20:45.076279Z",
     "iopub.status.idle": "2021-05-25T21:20:45.089604Z",
     "shell.execute_reply": "2021-05-25T21:20:45.088485Z",
     "shell.execute_reply.started": "2021-05-25T21:20:45.076677Z"
    }
   },
   "outputs": [],
   "source": [
    "sim_fare = full_set[(full_set['Pclass']==3)&(full_set['Embarked']=='S')]"
   ]
  },
  {
   "cell_type": "code",
   "execution_count": null,
   "metadata": {
    "execution": {
     "iopub.execute_input": "2021-05-25T21:20:45.103486Z",
     "iopub.status.busy": "2021-05-25T21:20:45.102996Z",
     "iopub.status.idle": "2021-05-25T21:20:45.362894Z",
     "shell.execute_reply": "2021-05-25T21:20:45.361837Z",
     "shell.execute_reply.started": "2021-05-25T21:20:45.10345Z"
    }
   },
   "outputs": [],
   "source": [
    "sim_fare['Fare'].hist(bins=20);"
   ]
  },
  {
   "cell_type": "markdown",
   "metadata": {},
   "source": [
    "Will use the mode value here"
   ]
  },
  {
   "cell_type": "code",
   "execution_count": null,
   "metadata": {
    "execution": {
     "iopub.execute_input": "2021-05-25T21:20:45.364934Z",
     "iopub.status.busy": "2021-05-25T21:20:45.364611Z",
     "iopub.status.idle": "2021-05-25T21:20:45.371684Z",
     "shell.execute_reply": "2021-05-25T21:20:45.370888Z",
     "shell.execute_reply.started": "2021-05-25T21:20:45.364902Z"
    }
   },
   "outputs": [],
   "source": [
    "sim_fare['Fare'].mode()"
   ]
  },
  {
   "cell_type": "code",
   "execution_count": null,
   "metadata": {
    "execution": {
     "iopub.execute_input": "2021-05-25T21:20:45.373441Z",
     "iopub.status.busy": "2021-05-25T21:20:45.373129Z",
     "iopub.status.idle": "2021-05-25T21:20:45.38715Z",
     "shell.execute_reply": "2021-05-25T21:20:45.386224Z",
     "shell.execute_reply.started": "2021-05-25T21:20:45.373408Z"
    }
   },
   "outputs": [],
   "source": [
    "full_set['Fare'].fillna(8.05,inplace=True)"
   ]
  },
  {
   "cell_type": "code",
   "execution_count": null,
   "metadata": {
    "execution": {
     "iopub.execute_input": "2021-05-25T21:20:45.391768Z",
     "iopub.status.busy": "2021-05-25T21:20:45.390845Z",
     "iopub.status.idle": "2021-05-25T21:20:45.40563Z",
     "shell.execute_reply": "2021-05-25T21:20:45.404602Z",
     "shell.execute_reply.started": "2021-05-25T21:20:45.391718Z"
    }
   },
   "outputs": [],
   "source": [
    "full_set.drop('Survived',axis=1).isnull().sum()"
   ]
  },
  {
   "cell_type": "markdown",
   "metadata": {},
   "source": [
    "### <a id='Link-SecC-e'>Name feature - exctracting title </a>  "
   ]
  },
  {
   "cell_type": "code",
   "execution_count": null,
   "metadata": {
    "execution": {
     "iopub.execute_input": "2021-05-25T21:20:45.407682Z",
     "iopub.status.busy": "2021-05-25T21:20:45.40707Z",
     "iopub.status.idle": "2021-05-25T21:20:45.430009Z",
     "shell.execute_reply": "2021-05-25T21:20:45.428701Z",
     "shell.execute_reply.started": "2021-05-25T21:20:45.407609Z"
    }
   },
   "outputs": [],
   "source": [
    "full_set['Name'].str.extract(' ([A-Za-z]+)\\.', expand=False).value_counts()"
   ]
  },
  {
   "cell_type": "code",
   "execution_count": null,
   "metadata": {
    "execution": {
     "iopub.execute_input": "2021-05-25T21:20:45.432197Z",
     "iopub.status.busy": "2021-05-25T21:20:45.431747Z",
     "iopub.status.idle": "2021-05-25T21:20:45.44238Z",
     "shell.execute_reply": "2021-05-25T21:20:45.441435Z",
     "shell.execute_reply.started": "2021-05-25T21:20:45.43215Z"
    }
   },
   "outputs": [],
   "source": [
    "c = full_set['Name'].tolist()"
   ]
  },
  {
   "cell_type": "code",
   "execution_count": null,
   "metadata": {
    "execution": {
     "iopub.execute_input": "2021-05-25T21:20:45.444426Z",
     "iopub.status.busy": "2021-05-25T21:20:45.444131Z",
     "iopub.status.idle": "2021-05-25T21:20:45.457337Z",
     "shell.execute_reply": "2021-05-25T21:20:45.456067Z",
     "shell.execute_reply.started": "2021-05-25T21:20:45.444395Z"
    }
   },
   "outputs": [],
   "source": [
    "d = []\n",
    "\n",
    "def ttle(name):\n",
    "    for i in c:\n",
    "        if 'Mr.' in i:\n",
    "            d.append('Mr')\n",
    "        elif 'Dr.' in i:\n",
    "            d.append('Mr')\n",
    "        elif 'Rev.' in i:\n",
    "            d.append('Mr')\n",
    "        elif 'Col.' in i:\n",
    "            d.append('Mr')\n",
    "        elif 'Capt.' in i:\n",
    "            d.append('Mr')\n",
    "        elif 'Major.' in i:\n",
    "            d.append('Mr')\n",
    "        elif 'Don.' in i:\n",
    "            d.append('Mr')\n",
    "        elif 'Sir.' in i:\n",
    "            d.append('Mr')\n",
    "        \n",
    "        elif 'Master.' in i:\n",
    "            d.append('Master')\n",
    "        \n",
    "        elif 'Miss.' in i:\n",
    "            d.append('Miss')\n",
    "        elif 'Mlle.' in i:\n",
    "            d.append('Miss')\n",
    "        elif 'Mme.' in i:\n",
    "            d.append('Miss')\n",
    "        elif 'Ms.' in i:\n",
    "            d.append('Miss')\n",
    "            \n",
    "        elif 'Mrs.' in i:\n",
    "            d.append('Mrs')\n",
    "        elif 'Countess.' in i:\n",
    "            d.append('Mrs')\n",
    "        elif 'Lady.' in i:\n",
    "            d.append('Mrs')\n",
    "        elif 'Dona.' in i:\n",
    "            d.append('Mrs')\n",
    "        else:\n",
    "            d.append('Mr')\n",
    "            \n",
    "ttle(c)"
   ]
  },
  {
   "cell_type": "code",
   "execution_count": null,
   "metadata": {
    "execution": {
     "iopub.execute_input": "2021-05-25T21:20:45.458729Z",
     "iopub.status.busy": "2021-05-25T21:20:45.458429Z",
     "iopub.status.idle": "2021-05-25T21:20:45.470907Z",
     "shell.execute_reply": "2021-05-25T21:20:45.46996Z",
     "shell.execute_reply.started": "2021-05-25T21:20:45.458698Z"
    }
   },
   "outputs": [],
   "source": [
    "d2 = pd.Series(d)"
   ]
  },
  {
   "cell_type": "code",
   "execution_count": null,
   "metadata": {
    "execution": {
     "iopub.execute_input": "2021-05-25T21:20:45.472441Z",
     "iopub.status.busy": "2021-05-25T21:20:45.47216Z",
     "iopub.status.idle": "2021-05-25T21:20:45.487179Z",
     "shell.execute_reply": "2021-05-25T21:20:45.486126Z",
     "shell.execute_reply.started": "2021-05-25T21:20:45.472413Z"
    }
   },
   "outputs": [],
   "source": [
    "d2.value_counts()"
   ]
  },
  {
   "cell_type": "code",
   "execution_count": null,
   "metadata": {
    "execution": {
     "iopub.execute_input": "2021-05-25T21:20:45.490249Z",
     "iopub.status.busy": "2021-05-25T21:20:45.489835Z",
     "iopub.status.idle": "2021-05-25T21:20:45.499136Z",
     "shell.execute_reply": "2021-05-25T21:20:45.498002Z",
     "shell.execute_reply.started": "2021-05-25T21:20:45.490218Z"
    }
   },
   "outputs": [],
   "source": [
    "full_set.reset_index(inplace=True)"
   ]
  },
  {
   "cell_type": "code",
   "execution_count": null,
   "metadata": {
    "execution": {
     "iopub.execute_input": "2021-05-25T21:20:45.500769Z",
     "iopub.status.busy": "2021-05-25T21:20:45.500467Z",
     "iopub.status.idle": "2021-05-25T21:20:45.511817Z",
     "shell.execute_reply": "2021-05-25T21:20:45.510883Z",
     "shell.execute_reply.started": "2021-05-25T21:20:45.500741Z"
    }
   },
   "outputs": [],
   "source": [
    "full_set['title'] = d2"
   ]
  },
  {
   "cell_type": "code",
   "execution_count": null,
   "metadata": {
    "execution": {
     "iopub.execute_input": "2021-05-25T21:20:45.513629Z",
     "iopub.status.busy": "2021-05-25T21:20:45.513214Z",
     "iopub.status.idle": "2021-05-25T21:20:45.52523Z",
     "shell.execute_reply": "2021-05-25T21:20:45.524228Z",
     "shell.execute_reply.started": "2021-05-25T21:20:45.513577Z"
    }
   },
   "outputs": [],
   "source": [
    "full_set.set_index(keys='PassengerId',inplace=True)"
   ]
  },
  {
   "cell_type": "code",
   "execution_count": null,
   "metadata": {
    "execution": {
     "iopub.execute_input": "2021-05-25T21:20:45.526719Z",
     "iopub.status.busy": "2021-05-25T21:20:45.526408Z",
     "iopub.status.idle": "2021-05-25T21:20:45.556876Z",
     "shell.execute_reply": "2021-05-25T21:20:45.555893Z",
     "shell.execute_reply.started": "2021-05-25T21:20:45.526689Z"
    },
    "tags": []
   },
   "outputs": [],
   "source": [
    "full_set.tail()"
   ]
  },
  {
   "cell_type": "markdown",
   "metadata": {},
   "source": [
    "### <a id='Link-SecC-f'>Parch and SibSp - The family </a>  "
   ]
  },
  {
   "cell_type": "code",
   "execution_count": null,
   "metadata": {
    "execution": {
     "iopub.execute_input": "2021-05-25T21:20:45.56062Z",
     "iopub.status.busy": "2021-05-25T21:20:45.560323Z",
     "iopub.status.idle": "2021-05-25T21:20:45.56753Z",
     "shell.execute_reply": "2021-05-25T21:20:45.566687Z",
     "shell.execute_reply.started": "2021-05-25T21:20:45.560592Z"
    }
   },
   "outputs": [],
   "source": [
    "def sib_family(row):\n",
    "    if row['SibSp'] > 0:\n",
    "        return 1\n",
    "    else:\n",
    "        return 0\n",
    "\n",
    "def par_family(row):\n",
    "    if row['Parch'] > 0:\n",
    "        return 1\n",
    "    else:\n",
    "        return 0\n",
    "def family(row):\n",
    "    if row['Family'] > 0:\n",
    "        return 1\n",
    "    else:\n",
    "        return 0"
   ]
  },
  {
   "cell_type": "code",
   "execution_count": null,
   "metadata": {
    "execution": {
     "iopub.execute_input": "2021-05-25T21:20:45.569174Z",
     "iopub.status.busy": "2021-05-25T21:20:45.568875Z",
     "iopub.status.idle": "2021-05-25T21:20:45.600443Z",
     "shell.execute_reply": "2021-05-25T21:20:45.599588Z",
     "shell.execute_reply.started": "2021-05-25T21:20:45.569134Z"
    }
   },
   "outputs": [],
   "source": [
    "full_set['SibSp'] = full_set.apply(lambda row: sib_family(row),axis=1)"
   ]
  },
  {
   "cell_type": "code",
   "execution_count": null,
   "metadata": {
    "execution": {
     "iopub.execute_input": "2021-05-25T21:20:45.602196Z",
     "iopub.status.busy": "2021-05-25T21:20:45.601871Z",
     "iopub.status.idle": "2021-05-25T21:20:45.628692Z",
     "shell.execute_reply": "2021-05-25T21:20:45.62769Z",
     "shell.execute_reply.started": "2021-05-25T21:20:45.60215Z"
    }
   },
   "outputs": [],
   "source": [
    "full_set['Parch'] = full_set.apply(lambda row: par_family(row),axis=1)"
   ]
  },
  {
   "cell_type": "code",
   "execution_count": null,
   "metadata": {
    "execution": {
     "iopub.execute_input": "2021-05-25T21:20:45.630397Z",
     "iopub.status.busy": "2021-05-25T21:20:45.630089Z",
     "iopub.status.idle": "2021-05-25T21:20:45.640161Z",
     "shell.execute_reply": "2021-05-25T21:20:45.639321Z",
     "shell.execute_reply.started": "2021-05-25T21:20:45.630367Z"
    }
   },
   "outputs": [],
   "source": [
    "full_set['Family'] = full_set['SibSp'] + train['Parch']   "
   ]
  },
  {
   "cell_type": "code",
   "execution_count": null,
   "metadata": {
    "execution": {
     "iopub.execute_input": "2021-05-25T21:20:45.641752Z",
     "iopub.status.busy": "2021-05-25T21:20:45.641434Z",
     "iopub.status.idle": "2021-05-25T21:20:45.677175Z",
     "shell.execute_reply": "2021-05-25T21:20:45.676137Z",
     "shell.execute_reply.started": "2021-05-25T21:20:45.641724Z"
    }
   },
   "outputs": [],
   "source": [
    "full_set['Family'] = full_set.apply(lambda row: family(row),axis=1)\n",
    "full_set['Family'].value_counts()"
   ]
  },
  {
   "cell_type": "code",
   "execution_count": null,
   "metadata": {
    "execution": {
     "iopub.execute_input": "2021-05-25T21:20:45.678774Z",
     "iopub.status.busy": "2021-05-25T21:20:45.678469Z",
     "iopub.status.idle": "2021-05-25T21:20:45.6991Z",
     "shell.execute_reply": "2021-05-25T21:20:45.697907Z",
     "shell.execute_reply.started": "2021-05-25T21:20:45.678743Z"
    }
   },
   "outputs": [],
   "source": [
    "full_set.head()"
   ]
  },
  {
   "cell_type": "markdown",
   "metadata": {},
   "source": [
    "### <a id='Link-SecC-g'>Tidying up</a>"
   ]
  },
  {
   "cell_type": "code",
   "execution_count": null,
   "metadata": {
    "execution": {
     "iopub.execute_input": "2021-05-25T21:20:45.700757Z",
     "iopub.status.busy": "2021-05-25T21:20:45.700429Z",
     "iopub.status.idle": "2021-05-25T21:20:45.713885Z",
     "shell.execute_reply": "2021-05-25T21:20:45.713023Z",
     "shell.execute_reply.started": "2021-05-25T21:20:45.700716Z"
    }
   },
   "outputs": [],
   "source": [
    "full_set = full_set.drop(['Fare','Name','SibSp','Parch','Ticket'],axis=1)"
   ]
  },
  {
   "cell_type": "code",
   "execution_count": null,
   "metadata": {
    "execution": {
     "iopub.execute_input": "2021-05-25T21:20:45.715254Z",
     "iopub.status.busy": "2021-05-25T21:20:45.714943Z",
     "iopub.status.idle": "2021-05-25T21:20:45.737119Z",
     "shell.execute_reply": "2021-05-25T21:20:45.736264Z",
     "shell.execute_reply.started": "2021-05-25T21:20:45.715225Z"
    }
   },
   "outputs": [],
   "source": [
    "full_set.head()"
   ]
  },
  {
   "cell_type": "code",
   "execution_count": null,
   "metadata": {
    "execution": {
     "iopub.execute_input": "2021-05-25T21:20:45.738994Z",
     "iopub.status.busy": "2021-05-25T21:20:45.738685Z",
     "iopub.status.idle": "2021-05-25T21:20:45.757726Z",
     "shell.execute_reply": "2021-05-25T21:20:45.756665Z",
     "shell.execute_reply.started": "2021-05-25T21:20:45.738963Z"
    }
   },
   "outputs": [],
   "source": [
    "full_set.info()"
   ]
  },
  {
   "cell_type": "code",
   "execution_count": null,
   "metadata": {
    "execution": {
     "iopub.execute_input": "2021-05-25T21:20:45.759363Z",
     "iopub.status.busy": "2021-05-25T21:20:45.759057Z",
     "iopub.status.idle": "2021-05-25T21:20:45.769134Z",
     "shell.execute_reply": "2021-05-25T21:20:45.768015Z",
     "shell.execute_reply.started": "2021-05-25T21:20:45.759333Z"
    }
   },
   "outputs": [],
   "source": [
    "full_set.dtypes"
   ]
  },
  {
   "cell_type": "markdown",
   "metadata": {},
   "source": [
    "Breaking up full_data set back to train and test data and exporting to csv to be used for ML algorithms"
   ]
  },
  {
   "cell_type": "code",
   "execution_count": null,
   "metadata": {
    "execution": {
     "iopub.execute_input": "2021-05-25T21:20:45.770743Z",
     "iopub.status.busy": "2021-05-25T21:20:45.770421Z",
     "iopub.status.idle": "2021-05-25T21:20:45.776826Z",
     "shell.execute_reply": "2021-05-25T21:20:45.775953Z",
     "shell.execute_reply.started": "2021-05-25T21:20:45.770714Z"
    }
   },
   "outputs": [],
   "source": [
    "n = len(train)"
   ]
  },
  {
   "cell_type": "code",
   "execution_count": null,
   "metadata": {
    "execution": {
     "iopub.execute_input": "2021-05-25T21:20:45.778291Z",
     "iopub.status.busy": "2021-05-25T21:20:45.778009Z",
     "iopub.status.idle": "2021-05-25T21:20:45.790259Z",
     "shell.execute_reply": "2021-05-25T21:20:45.78931Z",
     "shell.execute_reply.started": "2021-05-25T21:20:45.778264Z"
    }
   },
   "outputs": [],
   "source": [
    "train_data = full_set[:n]"
   ]
  },
  {
   "cell_type": "code",
   "execution_count": null,
   "metadata": {
    "execution": {
     "iopub.execute_input": "2021-05-25T21:20:45.792187Z",
     "iopub.status.busy": "2021-05-25T21:20:45.791774Z",
     "iopub.status.idle": "2021-05-25T21:20:45.805763Z",
     "shell.execute_reply": "2021-05-25T21:20:45.804586Z",
     "shell.execute_reply.started": "2021-05-25T21:20:45.792143Z"
    }
   },
   "outputs": [],
   "source": [
    "test_data = full_set[n:]\n",
    "test_data = test_data.drop(['Survived'],axis=1)"
   ]
  },
  {
   "cell_type": "code",
   "execution_count": null,
   "metadata": {
    "execution": {
     "iopub.execute_input": "2021-05-25T21:20:45.810004Z",
     "iopub.status.busy": "2021-05-25T21:20:45.809672Z",
     "iopub.status.idle": "2021-05-25T21:20:45.822429Z",
     "shell.execute_reply": "2021-05-25T21:20:45.82121Z",
     "shell.execute_reply.started": "2021-05-25T21:20:45.809973Z"
    }
   },
   "outputs": [],
   "source": [
    "test_data.shape"
   ]
  },
  {
   "cell_type": "code",
   "execution_count": null,
   "metadata": {
    "execution": {
     "iopub.execute_input": "2021-05-25T21:20:45.824132Z",
     "iopub.status.busy": "2021-05-25T21:20:45.823729Z",
     "iopub.status.idle": "2021-05-25T21:20:45.837347Z",
     "shell.execute_reply": "2021-05-25T21:20:45.836417Z",
     "shell.execute_reply.started": "2021-05-25T21:20:45.824083Z"
    }
   },
   "outputs": [],
   "source": [
    "train_data.shape"
   ]
  },
  {
   "cell_type": "code",
   "execution_count": null,
   "metadata": {
    "execution": {
     "iopub.execute_input": "2021-05-25T21:20:45.838908Z",
     "iopub.status.busy": "2021-05-25T21:20:45.83849Z",
     "iopub.status.idle": "2021-05-25T21:20:45.857369Z",
     "shell.execute_reply": "2021-05-25T21:20:45.856229Z",
     "shell.execute_reply.started": "2021-05-25T21:20:45.838879Z"
    },
    "tags": []
   },
   "outputs": [],
   "source": [
    "train_data.to_csv('./train-processed.csv',index=True)"
   ]
  },
  {
   "cell_type": "code",
   "execution_count": null,
   "metadata": {
    "execution": {
     "iopub.execute_input": "2021-05-25T21:20:45.858814Z",
     "iopub.status.busy": "2021-05-25T21:20:45.8584Z",
     "iopub.status.idle": "2021-05-25T21:20:45.866276Z",
     "shell.execute_reply": "2021-05-25T21:20:45.865394Z",
     "shell.execute_reply.started": "2021-05-25T21:20:45.858785Z"
    }
   },
   "outputs": [],
   "source": [
    "test_data.to_csv('./test-processed.csv',index=True)"
   ]
  },
  {
   "cell_type": "markdown",
   "metadata": {},
   "source": [
    "___"
   ]
  },
  {
   "cell_type": "markdown",
   "metadata": {},
   "source": [
    "# <a id='Link-SecD'>Machine Learning</a>"
   ]
  },
  {
   "cell_type": "markdown",
   "metadata": {},
   "source": [
    "___"
   ]
  },
  {
   "cell_type": "code",
   "execution_count": null,
   "metadata": {
    "execution": {
     "iopub.execute_input": "2021-05-25T21:20:45.868019Z",
     "iopub.status.busy": "2021-05-25T21:20:45.867431Z",
     "iopub.status.idle": "2021-05-25T21:20:45.87577Z",
     "shell.execute_reply": "2021-05-25T21:20:45.87478Z",
     "shell.execute_reply.started": "2021-05-25T21:20:45.867986Z"
    }
   },
   "outputs": [],
   "source": [
    "import pandas as pd"
   ]
  },
  {
   "cell_type": "code",
   "execution_count": null,
   "metadata": {
    "execution": {
     "iopub.execute_input": "2021-05-25T21:20:45.877445Z",
     "iopub.status.busy": "2021-05-25T21:20:45.87693Z",
     "iopub.status.idle": "2021-05-25T21:20:45.896935Z",
     "shell.execute_reply": "2021-05-25T21:20:45.89572Z",
     "shell.execute_reply.started": "2021-05-25T21:20:45.877411Z"
    }
   },
   "outputs": [],
   "source": [
    "train_data = pd.read_csv('train-processed.csv',index_col='PassengerId')\n",
    "test_data = pd.read_csv('test-processed.csv',index_col='PassengerId')"
   ]
  },
  {
   "cell_type": "code",
   "execution_count": null,
   "metadata": {
    "execution": {
     "iopub.execute_input": "2021-05-25T21:20:45.899764Z",
     "iopub.status.busy": "2021-05-25T21:20:45.899431Z",
     "iopub.status.idle": "2021-05-25T21:20:45.907392Z",
     "shell.execute_reply": "2021-05-25T21:20:45.906279Z",
     "shell.execute_reply.started": "2021-05-25T21:20:45.899734Z"
    }
   },
   "outputs": [],
   "source": [
    "from sklearn.model_selection import train_test_split\n",
    "\n",
    "X = train_data.drop(['Survived'],axis=1)  # just the features\n",
    "y = train_data['Survived']                # just the labels"
   ]
  },
  {
   "cell_type": "code",
   "execution_count": null,
   "metadata": {
    "execution": {
     "iopub.execute_input": "2021-05-25T21:20:45.90971Z",
     "iopub.status.busy": "2021-05-25T21:20:45.909196Z",
     "iopub.status.idle": "2021-05-25T21:20:45.920936Z",
     "shell.execute_reply": "2021-05-25T21:20:45.91995Z",
     "shell.execute_reply.started": "2021-05-25T21:20:45.909663Z"
    }
   },
   "outputs": [],
   "source": [
    "X_train, X_test, y_train, y_test = train_test_split(X, y,\n",
    "                                                    test_size=0.3)"
   ]
  },
  {
   "cell_type": "code",
   "execution_count": null,
   "metadata": {
    "execution": {
     "iopub.execute_input": "2021-05-25T21:20:45.922957Z",
     "iopub.status.busy": "2021-05-25T21:20:45.922194Z",
     "iopub.status.idle": "2021-05-25T21:20:45.950708Z",
     "shell.execute_reply": "2021-05-25T21:20:45.949858Z",
     "shell.execute_reply.started": "2021-05-25T21:20:45.922925Z"
    }
   },
   "outputs": [],
   "source": [
    "X_train"
   ]
  },
  {
   "cell_type": "markdown",
   "metadata": {},
   "source": [
    "## <a id='Link-SecD-a'>Preprocessing</a>"
   ]
  },
  {
   "cell_type": "code",
   "execution_count": null,
   "metadata": {
    "execution": {
     "iopub.execute_input": "2021-05-25T21:20:45.952288Z",
     "iopub.status.busy": "2021-05-25T21:20:45.951839Z",
     "iopub.status.idle": "2021-05-25T21:20:45.956807Z",
     "shell.execute_reply": "2021-05-25T21:20:45.95513Z",
     "shell.execute_reply.started": "2021-05-25T21:20:45.952245Z"
    }
   },
   "outputs": [],
   "source": [
    "# To display sklearn interactive diagrams:\n",
    "from sklearn import set_config\n",
    "set_config(display='diagram')"
   ]
  },
  {
   "cell_type": "code",
   "execution_count": null,
   "metadata": {
    "execution": {
     "iopub.execute_input": "2021-05-25T21:20:45.958854Z",
     "iopub.status.busy": "2021-05-25T21:20:45.958166Z",
     "iopub.status.idle": "2021-05-25T21:20:45.976975Z",
     "shell.execute_reply": "2021-05-25T21:20:45.975764Z",
     "shell.execute_reply.started": "2021-05-25T21:20:45.958804Z"
    }
   },
   "outputs": [],
   "source": [
    "#Load required packages\n",
    "from sklearn.pipeline import Pipeline\n",
    "from sklearn.preprocessing import OneHotEncoder, StandardScaler\n",
    "from sklearn.compose import ColumnTransformer"
   ]
  },
  {
   "cell_type": "code",
   "execution_count": null,
   "metadata": {
    "execution": {
     "iopub.execute_input": "2021-05-25T21:20:45.978876Z",
     "iopub.status.busy": "2021-05-25T21:20:45.978433Z",
     "iopub.status.idle": "2021-05-25T21:20:45.989584Z",
     "shell.execute_reply": "2021-05-25T21:20:45.988631Z",
     "shell.execute_reply.started": "2021-05-25T21:20:45.978843Z"
    }
   },
   "outputs": [],
   "source": [
    "# Creating a list of numerical and categorcal columns based on their dtype\n",
    "from sklearn.compose import make_column_selector as selector\n",
    "\n",
    "num_cols = selector(dtype_exclude=object)\n",
    "cat_cols = selector(dtype_include=object)\n",
    "\n",
    "num_cols = num_cols(X)\n",
    "cat_cols = cat_cols(X)"
   ]
  },
  {
   "cell_type": "code",
   "execution_count": null,
   "metadata": {
    "execution": {
     "iopub.execute_input": "2021-05-25T21:20:45.992337Z",
     "iopub.status.busy": "2021-05-25T21:20:45.991883Z",
     "iopub.status.idle": "2021-05-25T21:20:46.002193Z",
     "shell.execute_reply": "2021-05-25T21:20:46.000807Z",
     "shell.execute_reply.started": "2021-05-25T21:20:45.992291Z"
    }
   },
   "outputs": [],
   "source": [
    "#Categorical and numerical columns transformation pipelines\n",
    "#Encoding categorical columns with scikitlearn OneHotEnccoder\n",
    "#Scaling the numerical columns with StandardScaler\n",
    "\n",
    "cat_transformer_onehot = Pipeline(steps=[('onehot_transf',OneHotEncoder(handle_unknown='ignore'))])\n",
    "num_transformer = Pipeline(steps=[('scaler', StandardScaler())])\n",
    "\n",
    "#Applying the ColumnTransformer preprocessing for numerical and categorical data\n",
    "preprocessor = ColumnTransformer([('categoricals', cat_transformer_onehot, cat_cols),\n",
    "                                  ('numericals', num_transformer, num_cols)],\n",
    "                                 remainder = 'passthrough')"
   ]
  },
  {
   "cell_type": "code",
   "execution_count": null,
   "metadata": {
    "execution": {
     "iopub.execute_input": "2021-05-25T21:20:46.005373Z",
     "iopub.status.busy": "2021-05-25T21:20:46.00451Z",
     "iopub.status.idle": "2021-05-25T21:20:46.023914Z",
     "shell.execute_reply": "2021-05-25T21:20:46.022759Z",
     "shell.execute_reply.started": "2021-05-25T21:20:46.005307Z"
    }
   },
   "outputs": [],
   "source": [
    "num_transformer"
   ]
  },
  {
   "cell_type": "code",
   "execution_count": null,
   "metadata": {
    "execution": {
     "iopub.execute_input": "2021-05-25T21:20:46.025395Z",
     "iopub.status.busy": "2021-05-25T21:20:46.025097Z",
     "iopub.status.idle": "2021-05-25T21:20:46.038391Z",
     "shell.execute_reply": "2021-05-25T21:20:46.036844Z",
     "shell.execute_reply.started": "2021-05-25T21:20:46.025368Z"
    }
   },
   "outputs": [],
   "source": [
    "cat_transformer_onehot"
   ]
  },
  {
   "cell_type": "code",
   "execution_count": null,
   "metadata": {
    "execution": {
     "iopub.execute_input": "2021-05-25T21:20:46.0406Z",
     "iopub.status.busy": "2021-05-25T21:20:46.040153Z",
     "iopub.status.idle": "2021-05-25T21:20:46.062876Z",
     "shell.execute_reply": "2021-05-25T21:20:46.061567Z",
     "shell.execute_reply.started": "2021-05-25T21:20:46.040536Z"
    }
   },
   "outputs": [],
   "source": [
    "preprocessor"
   ]
  },
  {
   "cell_type": "markdown",
   "metadata": {},
   "source": [
    "## <a id='Link-SecD-b'>Model Training</a>"
   ]
  },
  {
   "cell_type": "code",
   "execution_count": null,
   "metadata": {
    "execution": {
     "iopub.execute_input": "2021-05-25T21:20:46.064973Z",
     "iopub.status.busy": "2021-05-25T21:20:46.064528Z",
     "iopub.status.idle": "2021-05-25T21:20:57.291692Z",
     "shell.execute_reply": "2021-05-25T21:20:57.29045Z",
     "shell.execute_reply.started": "2021-05-25T21:20:46.064928Z"
    }
   },
   "outputs": [],
   "source": [
    "from sklearn.ensemble import RandomForestClassifier\n",
    "from sklearn.model_selection import RandomizedSearchCV\n",
    "from sklearn.model_selection import GridSearchCV\n",
    "\n",
    "rfc_model = RandomForestClassifier()\n",
    "\n",
    "#Bundle preprocessing and modeling code in a pipeline\n",
    "my_pipeline_RFC = Pipeline(steps=[('preprocessor', preprocessor), \n",
    "                                  ('rfc_model', rfc_model)])\n",
    "\n",
    "#Hyperparameter tuning implementation\n",
    "param_grid_RFC = {\n",
    "    'rfc_model__criterion': ['gini','entropy'],\n",
    "    'rfc_model__n_estimators': [100, 235, 300], \n",
    "    'rfc_model__max_depth': [10, 30,50, 100], \n",
    "    'rfc_model__min_samples_split': [5, 15, 25],\n",
    "    'rfc_model__random_state': [10],\n",
    "    \n",
    "}\n",
    "\n",
    "searchCV_RFC = RandomizedSearchCV(my_pipeline_RFC,\n",
    "                                  param_distributions=param_grid_RFC,\n",
    "                                  cv=5, scoring='accuracy',n_jobs=-1)\n",
    "\n",
    "\n",
    "#searchCV_RFC = GridSearchCV(my_pipeline_RFC, \n",
    "#                            param_grid=param_grid_RFC,\n",
    "#                            cv=5, scoring='accuracy',n_jobs=-1)\n",
    "\n",
    "final = searchCV_RFC.fit(X_train, y_train)\n",
    "\n",
    "print('Best parameters for the Random Forest Classifier: \\n',\n",
    "      searchCV_RFC.best_params_) \n",
    "print('Best accuracy score for the Random Forest Classifier: ',\n",
    "      searchCV_RFC.best_score_)"
   ]
  },
  {
   "cell_type": "code",
   "execution_count": null,
   "metadata": {},
   "outputs": [],
   "source": []
  },
  {
   "cell_type": "markdown",
   "metadata": {},
   "source": [
    "### <a id='Link-SecD-h'>Model Evaluation </a>"
   ]
  },
  {
   "cell_type": "code",
   "execution_count": null,
   "metadata": {
    "execution": {
     "iopub.execute_input": "2021-05-25T21:20:57.293514Z",
     "iopub.status.busy": "2021-05-25T21:20:57.29322Z",
     "iopub.status.idle": "2021-05-25T21:20:57.298419Z",
     "shell.execute_reply": "2021-05-25T21:20:57.297473Z",
     "shell.execute_reply.started": "2021-05-25T21:20:57.293485Z"
    }
   },
   "outputs": [],
   "source": [
    "best_model_RFC = RandomForestClassifier(criterion = 'entropy',\n",
    "                                        max_depth=30,\n",
    "                                        min_samples_split= 25,\n",
    "                                        n_estimators= 300,\n",
    "                                        random_state= 10,\n",
    "                                        )\n",
    "\n",
    "\n",
    "my_pipeline_best_RFC = Pipeline(steps=[('preprocessor', preprocessor), \n",
    "                                       ('best_model_RFC', best_model_RFC)])"
   ]
  },
  {
   "cell_type": "code",
   "execution_count": null,
   "metadata": {
    "execution": {
     "iopub.execute_input": "2021-05-25T21:20:57.300154Z",
     "iopub.status.busy": "2021-05-25T21:20:57.299868Z",
     "iopub.status.idle": "2021-05-25T21:21:58.996255Z",
     "shell.execute_reply": "2021-05-25T21:21:58.99529Z",
     "shell.execute_reply.started": "2021-05-25T21:20:57.300126Z"
    }
   },
   "outputs": [],
   "source": [
    "from sklearn.model_selection import cross_validate\n",
    "from sklearn.model_selection import ShuffleSplit\n",
    "\n",
    "cv = ShuffleSplit(n_splits=100, test_size=0.3, random_state=0)\n",
    "\n",
    "cv_results = cross_validate(my_pipeline_best_RFC,\n",
    "                            X_test,\n",
    "                            y_test,\n",
    "                            cv=cv,\n",
    "                            scoring=\"accuracy\",\n",
    "                            return_train_score=True)"
   ]
  },
  {
   "cell_type": "code",
   "execution_count": null,
   "metadata": {
    "execution": {
     "iopub.execute_input": "2021-05-25T21:21:58.998534Z",
     "iopub.status.busy": "2021-05-25T21:21:58.998006Z",
     "iopub.status.idle": "2021-05-25T21:21:59.015133Z",
     "shell.execute_reply": "2021-05-25T21:21:59.014088Z",
     "shell.execute_reply.started": "2021-05-25T21:21:58.998484Z"
    }
   },
   "outputs": [],
   "source": [
    "cv_results = pd.DataFrame(cv_results)#[['test_score','train_score']])\n",
    "cv_results.head()"
   ]
  },
  {
   "cell_type": "code",
   "execution_count": null,
   "metadata": {
    "execution": {
     "iopub.execute_input": "2021-05-25T21:21:59.017458Z",
     "iopub.status.busy": "2021-05-25T21:21:59.017055Z",
     "iopub.status.idle": "2021-05-25T21:21:59.323818Z",
     "shell.execute_reply": "2021-05-25T21:21:59.322917Z",
     "shell.execute_reply.started": "2021-05-25T21:21:59.017426Z"
    }
   },
   "outputs": [],
   "source": [
    "import matplotlib.pyplot as plt\n",
    "\n",
    "cv_results[['test_score','train_score']].plot.hist(bins=15, edgecolor=\"white\", density=True,alpha=0.5)\n",
    "plt.xlabel(\"Accuracy\")\n",
    "_ = plt.title(\"Test score distribution\")"
   ]
  },
  {
   "cell_type": "code",
   "execution_count": null,
   "metadata": {
    "execution": {
     "iopub.execute_input": "2021-05-25T21:23:02.23684Z",
     "iopub.status.busy": "2021-05-25T21:23:02.236455Z",
     "iopub.status.idle": "2021-05-25T21:23:02.242423Z",
     "shell.execute_reply": "2021-05-25T21:23:02.241292Z",
     "shell.execute_reply.started": "2021-05-25T21:23:02.23681Z"
    }
   },
   "outputs": [],
   "source": [
    "print(f\"Classifier accuracy is on the test dataset was: {cv_results['test_score'].mean():.2f} +/- {cv_results['test_score'].std():.2f}\")"
   ]
  },
  {
   "cell_type": "code",
   "execution_count": null,
   "metadata": {},
   "outputs": [],
   "source": []
  },
  {
   "cell_type": "markdown",
   "metadata": {},
   "source": [
    "### <a id='Link-SecD-i'>Kaggle Submission </a>"
   ]
  },
  {
   "cell_type": "code",
   "execution_count": null,
   "metadata": {
    "execution": {
     "iopub.execute_input": "2021-05-25T21:21:59.332896Z",
     "iopub.status.busy": "2021-05-25T21:21:59.33257Z",
     "iopub.status.idle": "2021-05-25T21:21:59.388965Z",
     "shell.execute_reply": "2021-05-25T21:21:59.387908Z",
     "shell.execute_reply.started": "2021-05-25T21:21:59.332866Z"
    }
   },
   "outputs": [],
   "source": [
    "my_pipeline_final = searchCV_RFC.best_estimator_\n",
    "predictions = my_pipeline_final.predict(test_data)"
   ]
  },
  {
   "cell_type": "code",
   "execution_count": null,
   "metadata": {
    "execution": {
     "iopub.execute_input": "2021-05-25T21:21:59.390797Z",
     "iopub.status.busy": "2021-05-25T21:21:59.390454Z",
     "iopub.status.idle": "2021-05-25T21:21:59.395717Z",
     "shell.execute_reply": "2021-05-25T21:21:59.394369Z",
     "shell.execute_reply.started": "2021-05-25T21:21:59.390766Z"
    }
   },
   "outputs": [],
   "source": [
    "final_data = predictions.astype(int)"
   ]
  },
  {
   "cell_type": "code",
   "execution_count": null,
   "metadata": {
    "execution": {
     "iopub.execute_input": "2021-05-25T21:21:59.397729Z",
     "iopub.status.busy": "2021-05-25T21:21:59.397352Z",
     "iopub.status.idle": "2021-05-25T21:21:59.413798Z",
     "shell.execute_reply": "2021-05-25T21:21:59.412542Z",
     "shell.execute_reply.started": "2021-05-25T21:21:59.397697Z"
    }
   },
   "outputs": [],
   "source": [
    "#Generate output\n",
    "output = pd.DataFrame({'PassengerId': test_data.index, \n",
    "                       'Survived': final_data})\n",
    "output.to_csv('submission_v12-rfc.csv', index=False)\n",
    "print(\"File saved!\")"
   ]
  },
  {
   "cell_type": "code",
   "execution_count": null,
   "metadata": {},
   "outputs": [],
   "source": []
  }
 ],
 "metadata": {
  "kernelspec": {
   "display_name": "Python 3 (ipykernel)",
   "language": "python",
   "name": "python3"
  },
  "language_info": {
   "codemirror_mode": {
    "name": "ipython",
    "version": 3
   },
   "file_extension": ".py",
   "mimetype": "text/x-python",
   "name": "python",
   "nbconvert_exporter": "python",
   "pygments_lexer": "ipython3",
   "version": "3.9.7"
  }
 },
 "nbformat": 4,
 "nbformat_minor": 4
}
